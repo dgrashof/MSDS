{
 "cells": [
  {
   "cell_type": "code",
   "execution_count": 69,
   "metadata": {},
   "outputs": [],
   "source": [
    "import pandas as pd\n",
    "from sklearn.preprocessing import StandardScaler #scale any continuous fields\n",
    "from sklearn.ensemble import RandomForestRegressor\n",
    "from sklearn.svm import SVR\n",
    "from sklearn.model_selection import train_test_split"
   ]
  },
  {
   "cell_type": "code",
   "execution_count": 70,
   "metadata": {},
   "outputs": [],
   "source": [
    "file = \"C:/Users/David/OneDrive/MSDS/MSDS422/Week4/boston.csv\"\n",
    "df = pd.read_csv(file,sep = ',')"
   ]
  },
  {
   "cell_type": "code",
   "execution_count": 71,
   "metadata": {},
   "outputs": [
    {
     "data": {
      "text/plain": [
       "0.87"
      ]
     },
     "execution_count": 71,
     "metadata": {},
     "output_type": "execute_result"
    }
   ],
   "source": [
    "#isolate cat/cont/response fields\n",
    "cont_fields = ['crim','zn','indus','nox','rooms','age','dis','rad','tax','ptratio','lstat']\n",
    "\n",
    "#split data into train and test sets\n",
    "xtrain,xtest,ytrain,ytest=train_test_split(df[cont_fields],df['mv'],\n",
    "                                               test_size = .3, random_state = 42)\n",
    "\n",
    "model1 = RandomForestRegressor(random_state = 42, n_estimators = 100)\n",
    "model1.fit(xtrain,ytrain)\n",
    "model1.score(xtest,ytest).round(2)\n"
   ]
  },
  {
   "cell_type": "code",
   "execution_count": 72,
   "metadata": {},
   "outputs": [
    {
     "name": "stderr",
     "output_type": "stream",
     "text": [
      "C:\\Users\\David\\Anaconda3\\lib\\site-packages\\sklearn\\svm\\base.py:196: FutureWarning: The default value of gamma will change from 'auto' to 'scale' in version 0.22 to account better for unscaled features. Set gamma explicitly to 'auto' or 'scale' to avoid this warning.\n",
      "  \"avoid this warning.\", FutureWarning)\n"
     ]
    },
    {
     "data": {
      "text/plain": [
       "0.08"
      ]
     },
     "execution_count": 72,
     "metadata": {},
     "output_type": "execute_result"
    }
   ],
   "source": [
    "model3 = SVR()\n",
    "model3.fit(xtrain,ytrain)\n",
    "model3.score(xtest,ytest).round(2)"
   ]
  },
  {
   "cell_type": "code",
   "execution_count": 74,
   "metadata": {},
   "outputs": [
    {
     "name": "stderr",
     "output_type": "stream",
     "text": [
      "C:\\Users\\David\\Anaconda3\\lib\\site-packages\\sklearn\\preprocessing\\data.py:645: DataConversionWarning: Data with input dtype int64, float64 were all converted to float64 by StandardScaler.\n",
      "  return self.partial_fit(X, y)\n",
      "C:\\Users\\David\\Anaconda3\\lib\\site-packages\\sklearn\\base.py:464: DataConversionWarning: Data with input dtype int64, float64 were all converted to float64 by StandardScaler.\n",
      "  return self.fit(X, **fit_params).transform(X)\n",
      "C:\\Users\\David\\Anaconda3\\lib\\site-packages\\sklearn\\preprocessing\\data.py:645: DataConversionWarning: Data with input dtype int64, float64 were all converted to float64 by StandardScaler.\n",
      "  return self.partial_fit(X, y)\n",
      "C:\\Users\\David\\Anaconda3\\lib\\site-packages\\sklearn\\base.py:464: DataConversionWarning: Data with input dtype int64, float64 were all converted to float64 by StandardScaler.\n",
      "  return self.fit(X, **fit_params).transform(X)\n"
     ]
    },
    {
     "data": {
      "text/plain": [
       "0.85"
      ]
     },
     "execution_count": 74,
     "metadata": {},
     "output_type": "execute_result"
    }
   ],
   "source": [
    "import numpy as np\n",
    "\n",
    "#isolate cat/cont/response fields\n",
    "cont_fields = ['crim','zn','indus','nox','rooms','age','dis','rad','tax','ptratio','lstat']\n",
    "\n",
    "#split data into train and test sets\n",
    "xtrain,xtest,ytrain,ytest=train_test_split(df[cont_fields],df['mv'],\n",
    "                                               test_size = .3, random_state = 42)\n",
    "\n",
    "#scale training data separate from test so as to not influence scaling\n",
    "train_scaled = pd.DataFrame(StandardScaler().fit_transform(xtrain[cont_fields]),\n",
    "                   columns = xtrain[cont_fields].columns, index = xtrain.index)\n",
    "\n",
    "xtrain = pd.concat([train_scaled],axis = 1)\n",
    "\n",
    "#scale test data likewise\n",
    "test_scaled = pd.DataFrame(StandardScaler().fit_transform(xtest[cont_fields]),\n",
    "                   columns = xtest[cont_fields].columns, index = xtest.index)\n",
    "\n",
    "xtest = pd.concat([test_scaled],axis = 1)\n",
    "\n",
    "model2 = RandomForestRegressor(random_state = 42, n_estimators = 100)\n",
    "model2.fit(xtrain,ytrain)\n",
    "model2.score(xtest,ytest).round(2)"
   ]
  },
  {
   "cell_type": "code",
   "execution_count": 75,
   "metadata": {},
   "outputs": [
    {
     "data": {
      "text/plain": [
       "0.66"
      ]
     },
     "execution_count": 75,
     "metadata": {},
     "output_type": "execute_result"
    }
   ],
   "source": [
    "model4 = SVR()\n",
    "model4.fit(xtrain,ytrain)\n",
    "model4.score(xtest,ytest).round(2)"
   ]
  },
  {
   "cell_type": "code",
   "execution_count": null,
   "metadata": {},
   "outputs": [],
   "source": []
  }
 ],
 "metadata": {
  "kernelspec": {
   "display_name": "Python 3",
   "language": "python",
   "name": "python3"
  },
  "language_info": {
   "codemirror_mode": {
    "name": "ipython",
    "version": 3
   },
   "file_extension": ".py",
   "mimetype": "text/x-python",
   "name": "python",
   "nbconvert_exporter": "python",
   "pygments_lexer": "ipython3",
   "version": "3.6.8"
  }
 },
 "nbformat": 4,
 "nbformat_minor": 2
}

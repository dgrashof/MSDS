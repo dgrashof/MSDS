{
 "cells": [
  {
   "cell_type": "markdown",
   "metadata": {},
   "source": [
    "### 1.0 | Assignment 2: Evaluating Classification Models\n",
    "\n",
    "### Overview:\n",
    "\n",
    "For this problem a bank has asked that a machine learning model be generated to predict whether or not a customer will subscribe to a term deposit in response to a marketing campaign. To train the machine learning model a set of data has been provided including key predictor variables and the outcome from a previous marketing effort. The goal is to use this training data to design a logistic regression model and a naive bayes model and to determine which model is best suited for making the prediction. In this case, the scoring measure for sucess will be the ROC-AUC score which measures the trade-off between true positive and false positive predictions. \n",
    "<br>\n",
    "\n",
    "The first step in model development is to examine the training data and make any necassary adjustments to prep it for further analysis. In this case, three of the predictor variables and response variable are binary and were converted from text response ('yes'/'no') to binary numerical values (1/0). Additionally, all continuous fields were scaled and categorical fields were encoded. The predictor variables, default, housing and loan, were analyzed for their individual predictor value. All three variables scored a ROC-AUC score between .46 and .5 meaning that they were no better than random guesses. Finally, the binary predictor variables were evaluated for correlation to one another. In other words, did any two variables exhibit patterns in their values? It was determined that none of the vaues had any significant correlation. Likewise, the categorical variables were analyzed to determine if any of the values exhibited a relationshp with the response variable. In other words, did customers who were married disproportionally have a positive response variable?\n",
    "<br>\n",
    "\n",
    "Once the data was thorougly vetted, the values were split into a training and test set. The training data was first evaluated in a logistic regression model using GridSearchCV, a cross validation tool that tweaks hyperparameters to optimize the desired outcome, which in this case was the highest ROC-AUC score possible. This optimized model achieved a ROC-AUC mean score of .83 on the validation folds and only a score of .55 on the test data, which was hardly better than guessing. The second model, the Naive Bayes model, was evaluated using standard cross-validation scoring and achieved a score of .78. Against the test data, this score fell to .63. Both models showed strong performance on the validation sets but dropped off significantly against the test data indicating that additional regularization would be helpful. The Naive Bayes accurately predicted 48 positive response variable from a pool of 152 actual positive response variables in the test data. The Logistic Regressor predicted accurately on 17 responses of the 152 actual positive response variables. While neither model was very successful, the Naive Bayes showed the most promise as it successfully predicted more correct respones. Analzying the Naives Bayes results, the two strongest predictors were duration, the length of the call with the customer the previous attempt, and housing, whether or not the customer had a housing loan. \n",
    "<br>\n",
    "\n",
    "The recommendations for management are to use the Naive Bayes model for future predictions. Most importantly, it is suggested that additional predictor variables and models be considered to improve the ROC-AUC score as the current model based on the available predictor variables is not very insightful. That being said, based on the model in its current state, it is suggested that the bank should market to individuals with a housing loan who were willing to spend more time on the phone the last time they were contacted by the bank."
   ]
  },
  {
   "cell_type": "markdown",
   "metadata": {},
   "source": [
    "### 1.1 | Load Modules"
   ]
  },
  {
   "cell_type": "code",
   "execution_count": 1,
   "metadata": {},
   "outputs": [],
   "source": [
    "import pandas as pd\n",
    "import numpy as np\n",
    "import matplotlib.pyplot as plt\n",
    "from sklearn.preprocessing import StandardScaler #scale any continuous fields\n",
    "from sklearn.preprocessing import Imputer #impute any missing values\n",
    "from sklearn.preprocessing import LabelBinarizer #binarize response field\n",
    "from sklearn.preprocessing import OneHotEncoder #one-hot encode cat variables\n",
    "#################################################\n",
    "from sklearn.model_selection import GridSearchCV #cv technique for log classifier\n",
    "from sklearn.model_selection import cross_val_score #cv technique for bayes classifer\n",
    "from sklearn import metrics #to evaluate model performances\n",
    "from sklearn.linear_model import LogisticRegression #Logistic Classifier\n",
    "from sklearn.naive_bayes import GaussianNB #Bayes Classifier\n",
    "import warnings\n",
    "\n",
    "warnings.filterwarnings(\"ignore\")"
   ]
  },
  {
   "cell_type": "markdown",
   "metadata": {},
   "source": [
    "### 1.2 | Import Data"
   ]
  },
  {
   "cell_type": "code",
   "execution_count": 2,
   "metadata": {
    "scrolled": true
   },
   "outputs": [
    {
     "name": "stdout",
     "output_type": "stream",
     "text": [
      "df rows: 4521\n"
     ]
    },
    {
     "data": {
      "text/html": [
       "<div>\n",
       "<style scoped>\n",
       "    .dataframe tbody tr th:only-of-type {\n",
       "        vertical-align: middle;\n",
       "    }\n",
       "\n",
       "    .dataframe tbody tr th {\n",
       "        vertical-align: top;\n",
       "    }\n",
       "\n",
       "    .dataframe thead th {\n",
       "        text-align: right;\n",
       "    }\n",
       "</style>\n",
       "<table border=\"1\" class=\"dataframe\">\n",
       "  <thead>\n",
       "    <tr style=\"text-align: right;\">\n",
       "      <th></th>\n",
       "      <th>age</th>\n",
       "      <th>job</th>\n",
       "      <th>marital</th>\n",
       "      <th>education</th>\n",
       "      <th>default</th>\n",
       "      <th>balance</th>\n",
       "      <th>housing</th>\n",
       "      <th>loan</th>\n",
       "      <th>contact</th>\n",
       "      <th>day</th>\n",
       "      <th>month</th>\n",
       "      <th>duration</th>\n",
       "      <th>campaign</th>\n",
       "      <th>pdays</th>\n",
       "      <th>previous</th>\n",
       "      <th>poutcome</th>\n",
       "      <th>response</th>\n",
       "    </tr>\n",
       "  </thead>\n",
       "  <tbody>\n",
       "    <tr>\n",
       "      <th>0</th>\n",
       "      <td>30</td>\n",
       "      <td>unemployed</td>\n",
       "      <td>married</td>\n",
       "      <td>primary</td>\n",
       "      <td>no</td>\n",
       "      <td>1787</td>\n",
       "      <td>no</td>\n",
       "      <td>no</td>\n",
       "      <td>cellular</td>\n",
       "      <td>19</td>\n",
       "      <td>oct</td>\n",
       "      <td>79</td>\n",
       "      <td>1</td>\n",
       "      <td>-1</td>\n",
       "      <td>0</td>\n",
       "      <td>unknown</td>\n",
       "      <td>no</td>\n",
       "    </tr>\n",
       "    <tr>\n",
       "      <th>1</th>\n",
       "      <td>33</td>\n",
       "      <td>services</td>\n",
       "      <td>married</td>\n",
       "      <td>secondary</td>\n",
       "      <td>no</td>\n",
       "      <td>4789</td>\n",
       "      <td>yes</td>\n",
       "      <td>yes</td>\n",
       "      <td>cellular</td>\n",
       "      <td>11</td>\n",
       "      <td>may</td>\n",
       "      <td>220</td>\n",
       "      <td>1</td>\n",
       "      <td>339</td>\n",
       "      <td>4</td>\n",
       "      <td>failure</td>\n",
       "      <td>no</td>\n",
       "    </tr>\n",
       "    <tr>\n",
       "      <th>2</th>\n",
       "      <td>35</td>\n",
       "      <td>management</td>\n",
       "      <td>single</td>\n",
       "      <td>tertiary</td>\n",
       "      <td>no</td>\n",
       "      <td>1350</td>\n",
       "      <td>yes</td>\n",
       "      <td>no</td>\n",
       "      <td>cellular</td>\n",
       "      <td>16</td>\n",
       "      <td>apr</td>\n",
       "      <td>185</td>\n",
       "      <td>1</td>\n",
       "      <td>330</td>\n",
       "      <td>1</td>\n",
       "      <td>failure</td>\n",
       "      <td>no</td>\n",
       "    </tr>\n",
       "    <tr>\n",
       "      <th>3</th>\n",
       "      <td>30</td>\n",
       "      <td>management</td>\n",
       "      <td>married</td>\n",
       "      <td>tertiary</td>\n",
       "      <td>no</td>\n",
       "      <td>1476</td>\n",
       "      <td>yes</td>\n",
       "      <td>yes</td>\n",
       "      <td>unknown</td>\n",
       "      <td>3</td>\n",
       "      <td>jun</td>\n",
       "      <td>199</td>\n",
       "      <td>4</td>\n",
       "      <td>-1</td>\n",
       "      <td>0</td>\n",
       "      <td>unknown</td>\n",
       "      <td>no</td>\n",
       "    </tr>\n",
       "    <tr>\n",
       "      <th>4</th>\n",
       "      <td>59</td>\n",
       "      <td>blue-collar</td>\n",
       "      <td>married</td>\n",
       "      <td>secondary</td>\n",
       "      <td>no</td>\n",
       "      <td>0</td>\n",
       "      <td>yes</td>\n",
       "      <td>no</td>\n",
       "      <td>unknown</td>\n",
       "      <td>5</td>\n",
       "      <td>may</td>\n",
       "      <td>226</td>\n",
       "      <td>1</td>\n",
       "      <td>-1</td>\n",
       "      <td>0</td>\n",
       "      <td>unknown</td>\n",
       "      <td>no</td>\n",
       "    </tr>\n",
       "  </tbody>\n",
       "</table>\n",
       "</div>"
      ],
      "text/plain": [
       "   age          job  marital  education default  balance housing loan  \\\n",
       "0   30   unemployed  married    primary      no     1787      no   no   \n",
       "1   33     services  married  secondary      no     4789     yes  yes   \n",
       "2   35   management   single   tertiary      no     1350     yes   no   \n",
       "3   30   management  married   tertiary      no     1476     yes  yes   \n",
       "4   59  blue-collar  married  secondary      no        0     yes   no   \n",
       "\n",
       "    contact  day month  duration  campaign  pdays  previous poutcome response  \n",
       "0  cellular   19   oct        79         1     -1         0  unknown       no  \n",
       "1  cellular   11   may       220         1    339         4  failure       no  \n",
       "2  cellular   16   apr       185         1    330         1  failure       no  \n",
       "3   unknown    3   jun       199         4     -1         0  unknown       no  \n",
       "4   unknown    5   may       226         1     -1         0  unknown       no  "
      ]
     },
     "execution_count": 2,
     "metadata": {},
     "output_type": "execute_result"
    }
   ],
   "source": [
    "file = \"C:/Users/David/OneDrive/MSDS/MSDS422/Week2/bank.csv\"\n",
    "df = pd.read_csv(file,sep = ';')\n",
    "print('df rows:',len(df))\n",
    "df.head()"
   ]
  },
  {
   "cell_type": "markdown",
   "metadata": {},
   "source": [
    "### 1.3 | Data Pre-Processing"
   ]
  },
  {
   "cell_type": "code",
   "execution_count": 3,
   "metadata": {},
   "outputs": [
    {
     "data": {
      "text/html": [
       "<div>\n",
       "<style scoped>\n",
       "    .dataframe tbody tr th:only-of-type {\n",
       "        vertical-align: middle;\n",
       "    }\n",
       "\n",
       "    .dataframe tbody tr th {\n",
       "        vertical-align: top;\n",
       "    }\n",
       "\n",
       "    .dataframe thead th {\n",
       "        text-align: right;\n",
       "    }\n",
       "</style>\n",
       "<table border=\"1\" class=\"dataframe\">\n",
       "  <thead>\n",
       "    <tr style=\"text-align: right;\">\n",
       "      <th></th>\n",
       "      <th>default</th>\n",
       "      <th>housing</th>\n",
       "      <th>loan</th>\n",
       "      <th>response</th>\n",
       "    </tr>\n",
       "  </thead>\n",
       "  <tbody>\n",
       "    <tr>\n",
       "      <th>0</th>\n",
       "      <td>0</td>\n",
       "      <td>0</td>\n",
       "      <td>0</td>\n",
       "      <td>0</td>\n",
       "    </tr>\n",
       "    <tr>\n",
       "      <th>1</th>\n",
       "      <td>0</td>\n",
       "      <td>1</td>\n",
       "      <td>1</td>\n",
       "      <td>0</td>\n",
       "    </tr>\n",
       "    <tr>\n",
       "      <th>2</th>\n",
       "      <td>0</td>\n",
       "      <td>1</td>\n",
       "      <td>0</td>\n",
       "      <td>0</td>\n",
       "    </tr>\n",
       "    <tr>\n",
       "      <th>3</th>\n",
       "      <td>0</td>\n",
       "      <td>1</td>\n",
       "      <td>1</td>\n",
       "      <td>0</td>\n",
       "    </tr>\n",
       "    <tr>\n",
       "      <th>4</th>\n",
       "      <td>0</td>\n",
       "      <td>1</td>\n",
       "      <td>0</td>\n",
       "      <td>0</td>\n",
       "    </tr>\n",
       "  </tbody>\n",
       "</table>\n",
       "</div>"
      ],
      "text/plain": [
       "   default  housing  loan  response\n",
       "0        0        0     0         0\n",
       "1        0        1     1         0\n",
       "2        0        1     0         0\n",
       "3        0        1     1         0\n",
       "4        0        1     0         0"
      ]
     },
     "execution_count": 3,
     "metadata": {},
     "output_type": "execute_result"
    }
   ],
   "source": [
    "#isolate cat/cont/response fields\n",
    "cat_fields = ['default','housing','loan']\n",
    "cont_fields = ['balance','duration']\n",
    "response_fields = ['response']\n",
    "\n",
    "# binarize binary field\n",
    "for i in ['default','housing','loan','response']:\n",
    "    lb = LabelBinarizer()\n",
    "    df[i] = lb.fit_transform(df[i])\n",
    "\n",
    "#now all fields are defined in 0/1 values\n",
    "df[['default','housing','loan','response']].head()"
   ]
  },
  {
   "cell_type": "code",
   "execution_count": 4,
   "metadata": {},
   "outputs": [
    {
     "data": {
      "text/html": [
       "<div>\n",
       "<style scoped>\n",
       "    .dataframe tbody tr th:only-of-type {\n",
       "        vertical-align: middle;\n",
       "    }\n",
       "\n",
       "    .dataframe tbody tr th {\n",
       "        vertical-align: top;\n",
       "    }\n",
       "\n",
       "    .dataframe thead th {\n",
       "        text-align: right;\n",
       "    }\n",
       "</style>\n",
       "<table border=\"1\" class=\"dataframe\">\n",
       "  <thead>\n",
       "    <tr style=\"text-align: right;\">\n",
       "      <th></th>\n",
       "      <th>default</th>\n",
       "      <th>housing</th>\n",
       "      <th>loan</th>\n",
       "    </tr>\n",
       "  </thead>\n",
       "  <tbody>\n",
       "    <tr>\n",
       "      <th>count</th>\n",
       "      <td>4521.000000</td>\n",
       "      <td>4521.000000</td>\n",
       "      <td>4521.000000</td>\n",
       "    </tr>\n",
       "    <tr>\n",
       "      <th>mean</th>\n",
       "      <td>0.016810</td>\n",
       "      <td>0.566025</td>\n",
       "      <td>0.152842</td>\n",
       "    </tr>\n",
       "    <tr>\n",
       "      <th>std</th>\n",
       "      <td>0.128575</td>\n",
       "      <td>0.495676</td>\n",
       "      <td>0.359875</td>\n",
       "    </tr>\n",
       "    <tr>\n",
       "      <th>min</th>\n",
       "      <td>0.000000</td>\n",
       "      <td>0.000000</td>\n",
       "      <td>0.000000</td>\n",
       "    </tr>\n",
       "    <tr>\n",
       "      <th>25%</th>\n",
       "      <td>0.000000</td>\n",
       "      <td>0.000000</td>\n",
       "      <td>0.000000</td>\n",
       "    </tr>\n",
       "    <tr>\n",
       "      <th>50%</th>\n",
       "      <td>0.000000</td>\n",
       "      <td>1.000000</td>\n",
       "      <td>0.000000</td>\n",
       "    </tr>\n",
       "    <tr>\n",
       "      <th>75%</th>\n",
       "      <td>0.000000</td>\n",
       "      <td>1.000000</td>\n",
       "      <td>0.000000</td>\n",
       "    </tr>\n",
       "    <tr>\n",
       "      <th>max</th>\n",
       "      <td>1.000000</td>\n",
       "      <td>1.000000</td>\n",
       "      <td>1.000000</td>\n",
       "    </tr>\n",
       "  </tbody>\n",
       "</table>\n",
       "</div>"
      ],
      "text/plain": [
       "           default      housing         loan\n",
       "count  4521.000000  4521.000000  4521.000000\n",
       "mean      0.016810     0.566025     0.152842\n",
       "std       0.128575     0.495676     0.359875\n",
       "min       0.000000     0.000000     0.000000\n",
       "25%       0.000000     0.000000     0.000000\n",
       "50%       0.000000     1.000000     0.000000\n",
       "75%       0.000000     1.000000     0.000000\n",
       "max       1.000000     1.000000     1.000000"
      ]
     },
     "execution_count": 4,
     "metadata": {},
     "output_type": "execute_result"
    }
   ],
   "source": [
    "# looking at structure of categorical predictor variables. Since some of the variabes have more than two values, one-hot\n",
    "# encoding will need to be executed.\n",
    "df[cat_fields].describe()"
   ]
  },
  {
   "cell_type": "code",
   "execution_count": 5,
   "metadata": {},
   "outputs": [
    {
     "name": "stdout",
     "output_type": "stream",
     "text": [
      "NA count for default : 0\n",
      "NA count for housing : 0\n",
      "NA count for loan : 0\n"
     ]
    }
   ],
   "source": [
    "# check for any NA values to determine whether imputing is necassary\n",
    "for i in cat_fields:\n",
    "    print('NA count for',i,':',len(df[df[i].isna() == True]))"
   ]
  },
  {
   "cell_type": "code",
   "execution_count": 6,
   "metadata": {},
   "outputs": [
    {
     "data": {
      "text/html": [
       "<div>\n",
       "<style scoped>\n",
       "    .dataframe tbody tr th:only-of-type {\n",
       "        vertical-align: middle;\n",
       "    }\n",
       "\n",
       "    .dataframe tbody tr th {\n",
       "        vertical-align: top;\n",
       "    }\n",
       "\n",
       "    .dataframe thead th {\n",
       "        text-align: right;\n",
       "    }\n",
       "</style>\n",
       "<table border=\"1\" class=\"dataframe\">\n",
       "  <thead>\n",
       "    <tr style=\"text-align: right;\">\n",
       "      <th></th>\n",
       "      <th>balance</th>\n",
       "      <th>duration</th>\n",
       "    </tr>\n",
       "  </thead>\n",
       "  <tbody>\n",
       "    <tr>\n",
       "      <th>count</th>\n",
       "      <td>4521.000000</td>\n",
       "      <td>4521.000000</td>\n",
       "    </tr>\n",
       "    <tr>\n",
       "      <th>mean</th>\n",
       "      <td>1422.657819</td>\n",
       "      <td>263.961292</td>\n",
       "    </tr>\n",
       "    <tr>\n",
       "      <th>std</th>\n",
       "      <td>3009.638142</td>\n",
       "      <td>259.856633</td>\n",
       "    </tr>\n",
       "    <tr>\n",
       "      <th>min</th>\n",
       "      <td>-3313.000000</td>\n",
       "      <td>4.000000</td>\n",
       "    </tr>\n",
       "    <tr>\n",
       "      <th>25%</th>\n",
       "      <td>69.000000</td>\n",
       "      <td>104.000000</td>\n",
       "    </tr>\n",
       "    <tr>\n",
       "      <th>50%</th>\n",
       "      <td>444.000000</td>\n",
       "      <td>185.000000</td>\n",
       "    </tr>\n",
       "    <tr>\n",
       "      <th>75%</th>\n",
       "      <td>1480.000000</td>\n",
       "      <td>329.000000</td>\n",
       "    </tr>\n",
       "    <tr>\n",
       "      <th>max</th>\n",
       "      <td>71188.000000</td>\n",
       "      <td>3025.000000</td>\n",
       "    </tr>\n",
       "  </tbody>\n",
       "</table>\n",
       "</div>"
      ],
      "text/plain": [
       "            balance     duration\n",
       "count   4521.000000  4521.000000\n",
       "mean    1422.657819   263.961292\n",
       "std     3009.638142   259.856633\n",
       "min    -3313.000000     4.000000\n",
       "25%       69.000000   104.000000\n",
       "50%      444.000000   185.000000\n",
       "75%     1480.000000   329.000000\n",
       "max    71188.000000  3025.000000"
      ]
     },
     "execution_count": 6,
     "metadata": {},
     "output_type": "execute_result"
    }
   ],
   "source": [
    "# looking at structure of categorical predictor variables. Since some of the variabes have more than two values, one-hot\n",
    "# encoding will need to be executed.\n",
    "df[cont_fields].describe()"
   ]
  },
  {
   "cell_type": "code",
   "execution_count": 7,
   "metadata": {},
   "outputs": [
    {
     "name": "stdout",
     "output_type": "stream",
     "text": [
      "NA count for balance : 0\n",
      "NA count for duration : 0\n"
     ]
    }
   ],
   "source": [
    "# check for any NA values to determine whether imputing is necassary\n",
    "for i in cont_fields:\n",
    "    print('NA count for',i,':',len(df[df['loan'].isna() == True]))"
   ]
  },
  {
   "cell_type": "markdown",
   "metadata": {},
   "source": [
    "### 1.4 | EDA"
   ]
  },
  {
   "cell_type": "code",
   "execution_count": 8,
   "metadata": {},
   "outputs": [
    {
     "name": "stdout",
     "output_type": "stream",
     "text": [
      "default      0   1\n",
      "response          \n",
      "0         3933  67\n",
      "1          512   9\n",
      "----------------------------------------------\n",
      "housing      0     1\n",
      "response            \n",
      "0         1661  2339\n",
      "1          301   220\n",
      "----------------------------------------------\n",
      "loan         0    1\n",
      "response           \n",
      "0         3352  648\n",
      "1          478   43\n",
      "----------------------------------------------\n"
     ]
    }
   ],
   "source": [
    "for i in cat_fields:\n",
    "    print(pd.crosstab(index=df[\"response\"],columns=df[i]))\n",
    "    print(\"----------------------------------------------\")\n",
    "#based on each variable it looks like a 0 response for default and loan are somewhat correlated with a 1 response. Housing \n",
    "#doesn't appear to show much correlation. It appears that the interaction of variables will be what predicts response values"
   ]
  },
  {
   "cell_type": "code",
   "execution_count": 9,
   "metadata": {},
   "outputs": [
    {
     "name": "stdout",
     "output_type": "stream",
     "text": [
      "-------------------------------------------------\n",
      "housing vs Response\n",
      "-------------------------------------------------\n",
      "[[1661 2339]\n",
      " [ 301  220]]\n",
      "Precision: 0.09\n",
      "Recall   : 0.42\n",
      "Accuracy : 0.42\n",
      "F1_score : 0.14\n",
      "ROC_AUC  : 0.42\n",
      "-------------------------------------------------\n",
      "default vs Response\n",
      "-------------------------------------------------\n",
      "[[3933   67]\n",
      " [ 512    9]]\n",
      "Precision: 0.12\n",
      "Recall   : 0.02\n",
      "Accuracy : 0.87\n",
      "F1_score : 0.03\n",
      "ROC_AUC  : 0.5\n",
      "-------------------------------------------------\n",
      "loan vs Response\n",
      "-------------------------------------------------\n",
      "[[3352  648]\n",
      " [ 478   43]]\n",
      "Precision: 0.06\n",
      "Recall   : 0.08\n",
      "Accuracy : 0.75\n",
      "F1_score : 0.07\n",
      "ROC_AUC  : 0.46\n"
     ]
    }
   ],
   "source": [
    "import sklearn.metrics as metrics \n",
    "\n",
    "for i in ['housing','default','loan']:\n",
    "    print('-------------------------------------------------')\n",
    "    print(i,\"vs Response\")\n",
    "    print('-------------------------------------------------')\n",
    "    print(metrics.confusion_matrix(df['response'],df[i], labels=None, sample_weight=None))\n",
    "    print(\"Precision:\",round(metrics.precision_score(df['response'],df[i], labels=None,sample_weight=None),2))\n",
    "    print('Recall   :',round(metrics.recall_score(df['response'],df[i], labels=None,sample_weight=None),2))\n",
    "    print('Accuracy :',round(metrics.accuracy_score(df['response'],df[i],sample_weight=None),2))\n",
    "    print('F1_score :',round(metrics.f1_score(df['response'],df[i],sample_weight=None),2))\n",
    "    print('ROC_AUC  :',round(metrics.roc_auc_score(df['response'],df[i],sample_weight=None),2))\n",
    "\n",
    "#think of each variable like a prediction of response, you can see that loan and default are strong indicators. Using default\n",
    "#alone would generate an accuracy of 87%. Likewise, using loan would generate an accuracy of 75% as the sole predictor. \n",
    "# Unfortunately in this case, I am interested in maximizing the roc_auc score by optimizing the trade off between TPR and FPR\n",
    "# so the accuracy measure isn't very meaningful. Looking at the ROC_AUC, I can see that no single variable is more useful \n",
    "# than a random guess."
   ]
  },
  {
   "cell_type": "code",
   "execution_count": 10,
   "metadata": {},
   "outputs": [
    {
     "data": {
      "text/plain": [
       "<Figure size 432x288 with 0 Axes>"
      ]
     },
     "metadata": {},
     "output_type": "display_data"
    },
    {
     "data": {
      "image/png": "[encoded data removed]",
      "text/plain": [
       "<Figure size 864x864 with 2 Axes>"
      ]
     },
     "metadata": {
      "needs_background": "light"
     },
     "output_type": "display_data"
    }
   ],
   "source": [
    "import seaborn as sns\n",
    "\n",
    "def corr_chart(df_corr):\n",
    "    corr=df_corr.corr()\n",
    "    #screen top half to get a triangle\n",
    "    top = np.zeros_like(corr, dtype=np.bool)\n",
    "    top[np.triu_indices_from(top)] = True\n",
    "    fig=plt.figure()\n",
    "    fig, ax = plt.subplots(figsize=(12,12))\n",
    "    sns.heatmap(corr, mask=top, cmap='coolwarm', \n",
    "        center = 0, square=True, \n",
    "        linewidths=.5, cbar_kws={'shrink':.5}, \n",
    "        annot = True, annot_kws={'size': 9}, fmt = '.3f')           \n",
    "    plt.xticks(rotation=45) # rotate variable labels on columns (x axis)\n",
    "    plt.yticks(rotation=0) # use horizontal variable labels on rows (y axis)\n",
    "    plt.title('Correlation Heat Map')   \n",
    "    plt.savefig('plot-corr-map.pdf', \n",
    "        bbox_inches = 'tight', dpi=None, facecolor='w', edgecolor='b', \n",
    "        orientation='portrait', papertype=None, format=None, \n",
    "        transparent=True, pad_inches=0.25, frameon=None) \n",
    "\n",
    "for i in [cont_fields]:\n",
    "    corr_chart(df_corr = df[i])\n",
    "\n",
    "#this visual confirms that none of the variables are correlated with one another. In other words, when housing is equal to 1\n",
    "# loan is not also equal to one"
   ]
  },
  {
   "cell_type": "code",
   "execution_count": 11,
   "metadata": {},
   "outputs": [
    {
     "data": {
      "image/png": "[encoded data removed]",
      "text/plain": [
       "<Figure size 432x288 with 1 Axes>"
      ]
     },
     "metadata": {
      "needs_background": "light"
     },
     "output_type": "display_data"
    },
    {
     "data": {
      "image/png": "[encoded data removed]",
      "text/plain": [
       "<Figure size 432x288 with 1 Axes>"
      ]
     },
     "metadata": {
      "needs_background": "light"
     },
     "output_type": "display_data"
    }
   ],
   "source": [
    "#Distribution of continuous fields separated by response\n",
    "for i in cont_fields:\n",
    "    plt.figure(i)\n",
    "    df.groupby('response')[i].hist(alpha = .6)\n",
    "    plt.title(i)\n",
    "    plt.legend('01')"
   ]
  },
  {
   "cell_type": "code",
   "execution_count": 12,
   "metadata": {},
   "outputs": [
    {
     "data": {
      "image/png": "[encoded data removed]",
      "text/plain": [
       "<Figure size 720x360 with 2 Axes>"
      ]
     },
     "metadata": {
      "needs_background": "light"
     },
     "output_type": "display_data"
    },
    {
     "data": {
      "image/png": "[encoded data removed]",
      "text/plain": [
       "<Figure size 720x360 with 2 Axes>"
      ]
     },
     "metadata": {
      "needs_background": "light"
     },
     "output_type": "display_data"
    },
    {
     "data": {
      "image/png": "[encoded data removed]",
      "text/plain": [
       "<Figure size 720x360 with 2 Axes>"
      ]
     },
     "metadata": {
      "needs_background": "light"
     },
     "output_type": "display_data"
    }
   ],
   "source": [
    "#generate bar chart of categorical fields distributed by response variable to identify any trends.\n",
    "for i in cat_fields:\n",
    "    sns.catplot(x='response',col = i, kind = 'count',data = df)"
   ]
  },
  {
   "cell_type": "markdown",
   "metadata": {},
   "source": [
    "### 1.5 | Split into Training and Test Data"
   ]
  },
  {
   "cell_type": "code",
   "execution_count": 13,
   "metadata": {},
   "outputs": [],
   "source": [
    "from sklearn.model_selection import train_test_split\n",
    "\n",
    "RANDOM_STATE = 42\n",
    "TEST_SIZE = .3\n",
    "\n",
    "#split data into train and test sets\n",
    "train_x,test_x,train_y,test_y=train_test_split(df[cat_fields+cont_fields],df['response'],\n",
    "                                               test_size = TEST_SIZE, random_state = RANDOM_STATE)"
   ]
  },
  {
   "cell_type": "code",
   "execution_count": 14,
   "metadata": {},
   "outputs": [
    {
     "name": "stdout",
     "output_type": "stream",
     "text": [
      "Row count of Xtrain: 3164\n",
      "Row count of Ytrain: 3164 / Numer of Positives:  369 / Positive ratio:  0.12\n",
      "Row count of Xtest: 1357\n",
      "Row count of Ytest: 1357 / Numer of Positives:  152 / Positive ratio:  0.11\n"
     ]
    }
   ],
   "source": [
    "#confirm split went according to plan\n",
    "print(\"Row count of Xtrain:\",len(train_x))\n",
    "print(\"Row count of Ytrain:\",len(train_y),\"/ Numer of Positives: \",sum(train_y),\"/ Positive ratio: \",round(sum(train_y)/len(train_y),2))\n",
    "print(\"Row count of Xtest:\",len(test_x))\n",
    "print(\"Row count of Ytest:\",len(test_y),\"/ Numer of Positives: \",sum(test_y),\"/ Positive ratio: \",round(sum(test_y)/len(test_y),2))"
   ]
  },
  {
   "cell_type": "markdown",
   "metadata": {},
   "source": [
    "### 1.6 | Scale Test and Training Data "
   ]
  },
  {
   "cell_type": "code",
   "execution_count": 15,
   "metadata": {},
   "outputs": [
    {
     "name": "stdout",
     "output_type": "stream",
     "text": [
      "Test Data shape: (1357, 5)\n",
      "Training Data shape:  (3164, 5)\n"
     ]
    },
    {
     "name": "stderr",
     "output_type": "stream",
     "text": [
      "C:\\Users\\David\\Anaconda3\\lib\\site-packages\\sklearn\\preprocessing\\data.py:625: DataConversionWarning: Data with input dtype int64 were all converted to float64 by StandardScaler.\n",
      "  return self.partial_fit(X, y)\n",
      "C:\\Users\\David\\Anaconda3\\lib\\site-packages\\sklearn\\base.py:462: DataConversionWarning: Data with input dtype int64 were all converted to float64 by StandardScaler.\n",
      "  return self.fit(X, **fit_params).transform(X)\n",
      "C:\\Users\\David\\Anaconda3\\lib\\site-packages\\sklearn\\preprocessing\\data.py:625: DataConversionWarning: Data with input dtype int64 were all converted to float64 by StandardScaler.\n",
      "  return self.partial_fit(X, y)\n",
      "C:\\Users\\David\\Anaconda3\\lib\\site-packages\\sklearn\\base.py:462: DataConversionWarning: Data with input dtype int64 were all converted to float64 by StandardScaler.\n",
      "  return self.fit(X, **fit_params).transform(X)\n"
     ]
    }
   ],
   "source": [
    "#scale training data separate from test so as to not influence scaling\n",
    "train_scaled = pd.DataFrame(StandardScaler().fit_transform(train_x[cont_fields]),\n",
    "                   columns = train_x[cont_fields].columns, index = train_x.index)\n",
    "\n",
    "train_x = pd.concat([train_x[cat_fields],train_scaled],axis = 1)\n",
    "\n",
    "#scale test data likewise\n",
    "test_scaled = pd.DataFrame(StandardScaler().fit_transform(test_x[cont_fields]),\n",
    "                   columns = test_x[cont_fields].columns, index = test_x.index)\n",
    "\n",
    "test_x = pd.concat([test_x[cat_fields],test_scaled],axis = 1)\n",
    "\n",
    "print(\"Test Data shape:\",test_x.shape)\n",
    "print(\"Training Data shape: \",train_x.shape)"
   ]
  },
  {
   "cell_type": "markdown",
   "metadata": {},
   "source": [
    "### 1.7 | One Hot Encoding of Categorical Variables"
   ]
  },
  {
   "cell_type": "code",
   "execution_count": 16,
   "metadata": {},
   "outputs": [
    {
     "name": "stdout",
     "output_type": "stream",
     "text": [
      "Test Data shape: (1357, 5)\n",
      "Training Data shape:  (3164, 5)\n"
     ]
    }
   ],
   "source": [
    "#this method is tricky since I want to one hot encode across a combined test and training set. If I were to encode test\n",
    "#and training in isolation then I would run the risk of some values showing up only in one of the sets resulting in a mismatched\n",
    "#number of columns\n",
    "\n",
    "#define variable for identifying test and train\n",
    "train_x['train'] = 1\n",
    "test_x['train'] = 0\n",
    "\n",
    "#Combine test and train data\n",
    "combined = pd.concat([train_x,test_x],axis = 0)\n",
    "\n",
    "#isolate categorical variables\n",
    "cat_df = combined[cat_fields]\n",
    "\n",
    "#one hot encode\n",
    "cat_df_encoded = pd.get_dummies(cat_df,drop_first = True)\n",
    "\n",
    "combined_2 = pd.concat([cat_df_encoded,combined[cont_fields],combined['train']],axis = 1)\n",
    "\n",
    "#split combined data set back to train and test\n",
    "train_x = combined_2[combined_2['train'] == 1]\n",
    "test_x = combined_2[combined_2['train'] == 0]\n",
    "#remove train field defined earlier\n",
    "train_x.drop('train',axis = 1,inplace = True)\n",
    "test_x.drop('train',axis = 1, inplace = True)\n",
    "\n",
    "print(\"Test Data shape:\",test_x.shape)\n",
    "print(\"Training Data shape: \",train_x.shape)\n",
    "#Check the columns are equal and and the rows counts remained the same"
   ]
  },
  {
   "cell_type": "markdown",
   "metadata": {},
   "source": [
    "### 1.6 | Model I: Logistic Regressor"
   ]
  },
  {
   "cell_type": "code",
   "execution_count": 17,
   "metadata": {},
   "outputs": [
    {
     "name": "stdout",
     "output_type": "stream",
     "text": [
      "Array of mean roc_auc scores achieved from cross-validation:  [0.82 0.82 0.82 0.82 0.81 0.81 0.81 0.81 0.82 0.82 0.82 0.82 0.8  0.8\n",
      " 0.8  0.8  0.83 0.83 0.83 0.83 0.79 0.79 0.79 0.79 0.83 0.83 0.83 0.83\n",
      " 0.78 0.78 0.78 0.78 0.83 0.83 0.83 0.83 0.78 0.78 0.78 0.78 0.83 0.83\n",
      " 0.83 0.83 0.78 0.78 0.78 0.78 0.83 0.83 0.83 0.83 0.78 0.78 0.78 0.78\n",
      " 0.83 0.83 0.83 0.83 0.78 0.78 0.78 0.78 0.83 0.83 0.83 0.83 0.78 0.78\n",
      " 0.78 0.78]\n"
     ]
    }
   ],
   "source": [
    "# apply logistic regression grid search to model/data.\n",
    "model1 = LogisticRegression()\n",
    "\n",
    "# Perform grid search to zero in on optimal parameters.\n",
    "param_grid = [{\n",
    "     \"fit_intercept\":[True, False],\n",
    "     \"warm_start\"   :[True, False],\n",
    "     \"penalty\"      :['l2'], \n",
    "     \"solver\"       :['lbfgs','newton-cg'],\n",
    "     \"C\"            :[1/10000, 1/1000, 1/100, 1/10, 1, 10, 100, 1000, 10000],\n",
    "}]\n",
    "\n",
    "# Evaluate performance of optimal model on test data.\n",
    "grid_search = GridSearchCV(model1, param_grid, cv=5, scoring='roc_auc',return_train_score = True)\n",
    "grid_search.fit(train_x, train_y)\n",
    "bestmodel1  = grid_search.best_estimator_\n",
    "\n",
    "#examine mean training roc_auc scores\n",
    "print(\"Array of mean roc_auc scores achieved from cross-validation: \",grid_search.cv_results_['mean_train_score'].round(2))"
   ]
  },
  {
   "cell_type": "code",
   "execution_count": 18,
   "metadata": {},
   "outputs": [
    {
     "name": "stdout",
     "output_type": "stream",
     "text": [
      "Best roc_auc score acheived on cross-validation:  0.83\n"
     ]
    }
   ],
   "source": [
    "#examine best training roc_auc score\n",
    "print(\"Best roc_auc score acheived on cross-validation: \",round(grid_search.best_score_,2))"
   ]
  },
  {
   "cell_type": "code",
   "execution_count": 19,
   "metadata": {
    "scrolled": true
   },
   "outputs": [
    {
     "name": "stdout",
     "output_type": "stream",
     "text": [
      "Accuracy : 0.89\n",
      "Precision: 0.86\n",
      "Recall   : 0.89\n",
      "f1-score : 0.86\n",
      "ROC-AUC  : 0.55\n",
      "\n",
      "\n",
      "Confusion Matrix\n",
      "[[1189   16]\n",
      " [ 135   17]]\n"
     ]
    }
   ],
   "source": [
    "# Apply bestmodel1 to out-of-sample test data `test_x`.\n",
    "model1_pred = bestmodel1.predict(test_x)\n",
    "\n",
    "# Asses performance of mod.\n",
    "print(\"Accuracy : {}\".format(metrics.accuracy_score(test_y, model1_pred).round(2)))\n",
    "print(\"Precision: {}\".format(metrics.precision_score(test_y, model1_pred, average=\"weighted\").round(2)))\n",
    "print(\"Recall   : {}\".format(metrics.recall_score(test_y, model1_pred, average=\"weighted\").round(2)))\n",
    "print(\"f1-score : {}\".format(metrics.f1_score(test_y, model1_pred, average=\"weighted\").round(2)))\n",
    "print(\"ROC-AUC  : {}\".format(metrics.roc_auc_score(test_y, model1_pred).round(2)))\n",
    "print(\"\\n\")\n",
    "print(\"Confusion Matrix\")\n",
    "print(metrics.confusion_matrix(test_y, model1_pred))"
   ]
  },
  {
   "cell_type": "markdown",
   "metadata": {},
   "source": [
    "### 1.7 | Model: Naive Bayes Classifier"
   ]
  },
  {
   "cell_type": "code",
   "execution_count": 20,
   "metadata": {},
   "outputs": [
    {
     "name": "stdout",
     "output_type": "stream",
     "text": [
      "Array of mean roc_auc scores achieved from cross-validation:  [0.72 0.81 0.81 0.8  0.75]\n"
     ]
    }
   ],
   "source": [
    "#define Naive Bayes model\n",
    "model2 = GaussianNB()\n",
    "\n",
    "# Perform grid search to zero in on optimal parameters.\n",
    "model2.fit(train_x,train_y)\n",
    "\n",
    "#generate cross validation score to measure success\n",
    "scores = cross_val_score(model2,train_x,train_y,scoring = 'roc_auc',cv = 5)\n",
    "#examine mean training roc_auc scores\n",
    "print(\"Array of mean roc_auc scores achieved from cross-validation: \",scores.round(2))"
   ]
  },
  {
   "cell_type": "code",
   "execution_count": 21,
   "metadata": {},
   "outputs": [
    {
     "name": "stdout",
     "output_type": "stream",
     "text": [
      "Avg roc_auc score acheived on cross-validation:  0.78\n"
     ]
    }
   ],
   "source": [
    "#generate cross validation score to measure success\n",
    "print(\"Avg roc_auc score acheived on cross-validation: \",round(scores.mean(),2))"
   ]
  },
  {
   "cell_type": "code",
   "execution_count": 22,
   "metadata": {},
   "outputs": [
    {
     "name": "stdout",
     "output_type": "stream",
     "text": [
      "Accuracy : 0.87\n",
      "Precision: 0.86\n",
      "Recall   : 0.87\n",
      "f1-score : 0.86\n",
      "ROC-AUC  : 0.63\n",
      "\n",
      "\n",
      "Confusion Matrix\n",
      "[[1131   74]\n",
      " [ 104   48]]\n"
     ]
    }
   ],
   "source": [
    "# Apply model2 to out-of-sample test data `test_x`.\n",
    "model2_pred = model2.predict(test_x)\n",
    "\n",
    "# Asses performance of model.\n",
    "print(\"Accuracy : {}\".format(metrics.accuracy_score(test_y, model2_pred).round(2)))\n",
    "print(\"Precision: {}\".format(metrics.precision_score(test_y, model2_pred, average=\"weighted\").round(2)))\n",
    "print(\"Recall   : {}\".format(metrics.recall_score(test_y, model2_pred, average=\"weighted\").round(2)))\n",
    "print(\"f1-score : {}\".format(metrics.f1_score(test_y, model2_pred, average=\"weighted\").round(2)))\n",
    "print(\"ROC-AUC  : {}\".format(metrics.roc_auc_score(test_y, model2_pred).round(2)))\n",
    "print(\"\\n\")\n",
    "print(\"Confusion Matrix\")\n",
    "print(metrics.confusion_matrix(test_y, model2_pred))"
   ]
  },
  {
   "cell_type": "code",
   "execution_count": 25,
   "metadata": {},
   "outputs": [
    {
     "data": {
      "text/plain": [
       "default    29\n",
       "housing    71\n",
       "loan       16\n",
       "dtype: int64"
      ]
     },
     "execution_count": 25,
     "metadata": {},
     "output_type": "execute_result"
    }
   ],
   "source": [
    "results = pd.concat([test_x.reset_index(),pd.Series(model2_pred)],axis = 1)\n",
    "results[['default','housing','loan']][results[0]==1].sum()\n",
    "#for the predicted positive responses, having a housing loan showed the strongest relationship to a positive response"
   ]
  },
  {
   "cell_type": "code",
   "execution_count": 27,
   "metadata": {},
   "outputs": [
    {
     "data": {
      "image/png": "[encoded data removed]",
      "text/plain": [
       "<Figure size 432x288 with 1 Axes>"
      ]
     },
     "metadata": {
      "needs_background": "light"
     },
     "output_type": "display_data"
    },
    {
     "data": {
      "image/png": "[encoded data removed]",
      "text/plain": [
       "<Figure size 432x288 with 1 Axes>"
      ]
     },
     "metadata": {
      "needs_background": "light"
     },
     "output_type": "display_data"
    }
   ],
   "source": [
    "for i in ['duration','balance']:\n",
    "    plt.figure(i)\n",
    "    results.groupby(0)[i].hist(alpha = .6)\n",
    "    plt.title(i)\n",
    "    plt.legend('01')\n",
    "# For the continuous fields, a longer duration was associated with a predicted positive response."
   ]
  },
  {
   "cell_type": "code",
   "execution_count": 28,
   "metadata": {},
   "outputs": [
    {
     "data": {
      "image/png": "[encoded data removed]",
      "text/plain": [
       "<Figure size 432x288 with 1 Axes>"
      ]
     },
     "metadata": {
      "needs_background": "light"
     },
     "output_type": "display_data"
    }
   ],
   "source": [
    "#Logistic Regression plot components\n",
    "fpr, tpr, threshold  = metrics.roc_curve(test_y, model1_pred)\n",
    "roc_auc_1 = metrics.auc(fpr, tpr)\n",
    "#Bayes Classifier plot components\n",
    "fpr_2, tpr_2, threshold  = metrics.roc_curve(test_y, model2_pred)\n",
    "roc_auc_2 = metrics.auc(fpr, tpr)\n",
    "\n",
    "#Compare ROC curve for both models\n",
    "plt.title('ROC Curve')\n",
    "plt.plot(fpr,tpr,'dodgerblue', label = 'Log Regression')\n",
    "plt.plot(fpr_2,tpr_2,'orange',label = 'Bayes Classifier')\n",
    "plt.plot([0, 1], [0, 1],'black',label = 'Random Guess')\n",
    "plt.xlim([0, 1])\n",
    "plt.ylim([0, 1])\n",
    "plt.ylabel('True Positive Rate')\n",
    "plt.xlabel('False Positive Rate')\n",
    "plt.legend()\n",
    "plt.show()\n"
   ]
  },
  {
   "cell_type": "code",
   "execution_count": null,
   "metadata": {},
   "outputs": [],
   "source": []
  }
 ],
 "metadata": {
  "kernelspec": {
   "display_name": "Python 3",
   "language": "python",
   "name": "python3"
  },
  "language_info": {
   "codemirror_mode": {
    "name": "ipython",
    "version": 3
   },
   "file_extension": ".py",
   "mimetype": "text/x-python",
   "name": "python",
   "nbconvert_exporter": "python",
   "pygments_lexer": "ipython3",
   "version": "3.6.8"
  }
 },
 "nbformat": 4,
 "nbformat_minor": 2
}

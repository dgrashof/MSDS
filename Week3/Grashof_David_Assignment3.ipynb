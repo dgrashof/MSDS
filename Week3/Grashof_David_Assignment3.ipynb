{
 "cells": [
  {
   "cell_type": "markdown",
   "metadata": {},
   "source": [
    "### 1.0 | Assignment 3: Evaluating Linear Regression Models\n",
    "\n",
    "### Overview:\n",
    "\n",
    "The management team of a real state company is interested in understanding if machine learning techniques can accurately predict residential housing market values to supplement more conventional methods. Using a sample of labeled real estate data for the city of Boston as training data, models will be assessed based on the minimzed RMSE acheived.\n",
    "\n",
    "As with any machine learning model build, the data must be first analyzed, scaled, encoded and imputed, if necassary. An initial analysis of the data showed that the number of rooms in a given house and the % of local poplation in a lower economic class had the strongest correlation to the response variable, median house value. Next, the data was scaled across all continuous variables and cateogrical variables were encoded. No values needed to be imputed.\n",
    "\n",
    "The data was split into a training and test data set and then was fed into a Lasso Regression, Ridge Regression and Elastic Regression. One technique applied to the response variable was to apply a log function to it. This was shown to improve performance by reducing the RMSE and improving the r^2 score. The value in using a log value over the actual value in the dependent variable is to normalize the skewed distribution of the response variable and achieve homoscedasticity across residuals at all values. The three models were assesed for performance using a cross-validation design applying a number of different alpha values. It was found that each regression model generated nearly identical RMSE and r^2 scores of .198 (of log value) and .75, respectively. \n",
    "\n",
    "The recommendation to the managmen team is that they consider additional model types beyond linear models. While the results produced by any of the three linear models provide some predictive power, it would be expected that considering additional modeling options would likely result in an improved outcome and minimized RMSE.\n"
   ]
  },
  {
   "cell_type": "markdown",
   "metadata": {},
   "source": [
    "### 1.1 | Load Modules"
   ]
  },
  {
   "cell_type": "code",
   "execution_count": 1,
   "metadata": {},
   "outputs": [],
   "source": [
    "import pandas as pd\n",
    "import numpy as np\n",
    "import matplotlib.pyplot as plt\n",
    "from sklearn.preprocessing import StandardScaler #scale any continuous fields\n",
    "from sklearn.preprocessing import Imputer #impute any missing values\n",
    "from sklearn.preprocessing import LabelBinarizer\n",
    "#################################################\n",
    "from sklearn.linear_model import ElasticNetCV\n",
    "from sklearn.linear_model import LassoCV\n",
    "from sklearn.linear_model import RidgeCV\n",
    "from sklearn import metrics #to evaluate model performances\n",
    "\n",
    "import warnings\n",
    "warnings.filterwarnings(\"ignore\")"
   ]
  },
  {
   "cell_type": "markdown",
   "metadata": {},
   "source": [
    "### 1.2 | Import Data"
   ]
  },
  {
   "cell_type": "code",
   "execution_count": 2,
   "metadata": {
    "scrolled": false
   },
   "outputs": [
    {
     "name": "stdout",
     "output_type": "stream",
     "text": [
      "df rows: 506\n"
     ]
    },
    {
     "data": {
      "text/html": [
       "<div>\n",
       "<style scoped>\n",
       "    .dataframe tbody tr th:only-of-type {\n",
       "        vertical-align: middle;\n",
       "    }\n",
       "\n",
       "    .dataframe tbody tr th {\n",
       "        vertical-align: top;\n",
       "    }\n",
       "\n",
       "    .dataframe thead th {\n",
       "        text-align: right;\n",
       "    }\n",
       "</style>\n",
       "<table border=\"1\" class=\"dataframe\">\n",
       "  <thead>\n",
       "    <tr style=\"text-align: right;\">\n",
       "      <th></th>\n",
       "      <th>neighborhood</th>\n",
       "      <th>crim</th>\n",
       "      <th>zn</th>\n",
       "      <th>indus</th>\n",
       "      <th>chas</th>\n",
       "      <th>nox</th>\n",
       "      <th>rooms</th>\n",
       "      <th>age</th>\n",
       "      <th>dis</th>\n",
       "      <th>rad</th>\n",
       "      <th>tax</th>\n",
       "      <th>ptratio</th>\n",
       "      <th>lstat</th>\n",
       "      <th>mv</th>\n",
       "    </tr>\n",
       "  </thead>\n",
       "  <tbody>\n",
       "    <tr>\n",
       "      <th>0</th>\n",
       "      <td>Nahant</td>\n",
       "      <td>0.00632</td>\n",
       "      <td>18.0</td>\n",
       "      <td>2.31</td>\n",
       "      <td>0</td>\n",
       "      <td>0.538</td>\n",
       "      <td>6.575</td>\n",
       "      <td>65.2</td>\n",
       "      <td>4.0900</td>\n",
       "      <td>1</td>\n",
       "      <td>296</td>\n",
       "      <td>15.3</td>\n",
       "      <td>4.98</td>\n",
       "      <td>24.0</td>\n",
       "    </tr>\n",
       "    <tr>\n",
       "      <th>1</th>\n",
       "      <td>Swampscott</td>\n",
       "      <td>0.02731</td>\n",
       "      <td>0.0</td>\n",
       "      <td>7.07</td>\n",
       "      <td>0</td>\n",
       "      <td>0.469</td>\n",
       "      <td>6.421</td>\n",
       "      <td>78.9</td>\n",
       "      <td>4.9671</td>\n",
       "      <td>2</td>\n",
       "      <td>242</td>\n",
       "      <td>17.8</td>\n",
       "      <td>9.14</td>\n",
       "      <td>21.6</td>\n",
       "    </tr>\n",
       "    <tr>\n",
       "      <th>2</th>\n",
       "      <td>Swanpscott</td>\n",
       "      <td>0.02729</td>\n",
       "      <td>0.0</td>\n",
       "      <td>7.07</td>\n",
       "      <td>0</td>\n",
       "      <td>0.469</td>\n",
       "      <td>7.185</td>\n",
       "      <td>61.1</td>\n",
       "      <td>4.9671</td>\n",
       "      <td>2</td>\n",
       "      <td>242</td>\n",
       "      <td>17.8</td>\n",
       "      <td>4.03</td>\n",
       "      <td>34.7</td>\n",
       "    </tr>\n",
       "    <tr>\n",
       "      <th>3</th>\n",
       "      <td>Marblehead</td>\n",
       "      <td>0.03237</td>\n",
       "      <td>0.0</td>\n",
       "      <td>2.18</td>\n",
       "      <td>0</td>\n",
       "      <td>0.458</td>\n",
       "      <td>6.998</td>\n",
       "      <td>45.8</td>\n",
       "      <td>6.0622</td>\n",
       "      <td>3</td>\n",
       "      <td>222</td>\n",
       "      <td>18.7</td>\n",
       "      <td>2.94</td>\n",
       "      <td>33.4</td>\n",
       "    </tr>\n",
       "    <tr>\n",
       "      <th>4</th>\n",
       "      <td>Marblehead</td>\n",
       "      <td>0.06905</td>\n",
       "      <td>0.0</td>\n",
       "      <td>2.18</td>\n",
       "      <td>0</td>\n",
       "      <td>0.458</td>\n",
       "      <td>7.147</td>\n",
       "      <td>54.2</td>\n",
       "      <td>6.0622</td>\n",
       "      <td>3</td>\n",
       "      <td>222</td>\n",
       "      <td>18.7</td>\n",
       "      <td>5.33</td>\n",
       "      <td>36.2</td>\n",
       "    </tr>\n",
       "  </tbody>\n",
       "</table>\n",
       "</div>"
      ],
      "text/plain": [
       "  neighborhood     crim    zn  indus  chas    nox  rooms   age     dis  rad  \\\n",
       "0       Nahant  0.00632  18.0   2.31     0  0.538  6.575  65.2  4.0900    1   \n",
       "1   Swampscott  0.02731   0.0   7.07     0  0.469  6.421  78.9  4.9671    2   \n",
       "2   Swanpscott  0.02729   0.0   7.07     0  0.469  7.185  61.1  4.9671    2   \n",
       "3   Marblehead  0.03237   0.0   2.18     0  0.458  6.998  45.8  6.0622    3   \n",
       "4   Marblehead  0.06905   0.0   2.18     0  0.458  7.147  54.2  6.0622    3   \n",
       "\n",
       "   tax  ptratio  lstat    mv  \n",
       "0  296     15.3   4.98  24.0  \n",
       "1  242     17.8   9.14  21.6  \n",
       "2  242     17.8   4.03  34.7  \n",
       "3  222     18.7   2.94  33.4  \n",
       "4  222     18.7   5.33  36.2  "
      ]
     },
     "execution_count": 2,
     "metadata": {},
     "output_type": "execute_result"
    }
   ],
   "source": [
    "file = \"C:/Users/David/OneDrive/MSDS/MSDS422/Week3/boston.csv\"\n",
    "df = pd.read_csv(file,sep = ',')\n",
    "print('df rows:',len(df))\n",
    "df.head()"
   ]
  },
  {
   "cell_type": "markdown",
   "metadata": {},
   "source": [
    "### 1.3 | Data Pre-Processing"
   ]
  },
  {
   "cell_type": "code",
   "execution_count": 3,
   "metadata": {
    "scrolled": false
   },
   "outputs": [
    {
     "data": {
      "text/html": [
       "<div>\n",
       "<style scoped>\n",
       "    .dataframe tbody tr th:only-of-type {\n",
       "        vertical-align: middle;\n",
       "    }\n",
       "\n",
       "    .dataframe tbody tr th {\n",
       "        vertical-align: top;\n",
       "    }\n",
       "\n",
       "    .dataframe thead th {\n",
       "        text-align: right;\n",
       "    }\n",
       "</style>\n",
       "<table border=\"1\" class=\"dataframe\">\n",
       "  <thead>\n",
       "    <tr style=\"text-align: right;\">\n",
       "      <th></th>\n",
       "      <th>chas</th>\n",
       "      <th>crim</th>\n",
       "      <th>zn</th>\n",
       "      <th>nox</th>\n",
       "      <th>rooms</th>\n",
       "      <th>dis</th>\n",
       "      <th>rad</th>\n",
       "      <th>tax</th>\n",
       "      <th>ptratio</th>\n",
       "      <th>lstat</th>\n",
       "      <th>mv</th>\n",
       "    </tr>\n",
       "  </thead>\n",
       "  <tbody>\n",
       "    <tr>\n",
       "      <th>0</th>\n",
       "      <td>0</td>\n",
       "      <td>0.00632</td>\n",
       "      <td>18.0</td>\n",
       "      <td>0.538</td>\n",
       "      <td>6.575</td>\n",
       "      <td>4.0900</td>\n",
       "      <td>1</td>\n",
       "      <td>296</td>\n",
       "      <td>15.3</td>\n",
       "      <td>4.98</td>\n",
       "      <td>24.0</td>\n",
       "    </tr>\n",
       "    <tr>\n",
       "      <th>1</th>\n",
       "      <td>0</td>\n",
       "      <td>0.02731</td>\n",
       "      <td>0.0</td>\n",
       "      <td>0.469</td>\n",
       "      <td>6.421</td>\n",
       "      <td>4.9671</td>\n",
       "      <td>2</td>\n",
       "      <td>242</td>\n",
       "      <td>17.8</td>\n",
       "      <td>9.14</td>\n",
       "      <td>21.6</td>\n",
       "    </tr>\n",
       "    <tr>\n",
       "      <th>2</th>\n",
       "      <td>0</td>\n",
       "      <td>0.02729</td>\n",
       "      <td>0.0</td>\n",
       "      <td>0.469</td>\n",
       "      <td>7.185</td>\n",
       "      <td>4.9671</td>\n",
       "      <td>2</td>\n",
       "      <td>242</td>\n",
       "      <td>17.8</td>\n",
       "      <td>4.03</td>\n",
       "      <td>34.7</td>\n",
       "    </tr>\n",
       "    <tr>\n",
       "      <th>3</th>\n",
       "      <td>0</td>\n",
       "      <td>0.03237</td>\n",
       "      <td>0.0</td>\n",
       "      <td>0.458</td>\n",
       "      <td>6.998</td>\n",
       "      <td>6.0622</td>\n",
       "      <td>3</td>\n",
       "      <td>222</td>\n",
       "      <td>18.7</td>\n",
       "      <td>2.94</td>\n",
       "      <td>33.4</td>\n",
       "    </tr>\n",
       "    <tr>\n",
       "      <th>4</th>\n",
       "      <td>0</td>\n",
       "      <td>0.06905</td>\n",
       "      <td>0.0</td>\n",
       "      <td>0.458</td>\n",
       "      <td>7.147</td>\n",
       "      <td>6.0622</td>\n",
       "      <td>3</td>\n",
       "      <td>222</td>\n",
       "      <td>18.7</td>\n",
       "      <td>5.33</td>\n",
       "      <td>36.2</td>\n",
       "    </tr>\n",
       "  </tbody>\n",
       "</table>\n",
       "</div>"
      ],
      "text/plain": [
       "   chas     crim    zn    nox  rooms     dis  rad  tax  ptratio  lstat    mv\n",
       "0     0  0.00632  18.0  0.538  6.575  4.0900    1  296     15.3   4.98  24.0\n",
       "1     0  0.02731   0.0  0.469  6.421  4.9671    2  242     17.8   9.14  21.6\n",
       "2     0  0.02729   0.0  0.469  7.185  4.9671    2  242     17.8   4.03  34.7\n",
       "3     0  0.03237   0.0  0.458  6.998  6.0622    3  222     18.7   2.94  33.4\n",
       "4     0  0.06905   0.0  0.458  7.147  6.0622    3  222     18.7   5.33  36.2"
      ]
     },
     "execution_count": 3,
     "metadata": {},
     "output_type": "execute_result"
    }
   ],
   "source": [
    "#convert dependent variable to log value\n",
    "#df['mv'] = np.log(df['mv'])\n",
    "\n",
    "#isolate cat/cont/response fields\n",
    "cat_fields = ['chas']\n",
    "cont_fields = ['crim','zn','nox','rooms','dis','rad','tax','ptratio','lstat']\n",
    "response_fields = ['mv']\n",
    "\n",
    "df[cat_fields+cont_fields+response_fields].head()"
   ]
  },
  {
   "cell_type": "code",
   "execution_count": 4,
   "metadata": {},
   "outputs": [
    {
     "data": {
      "text/html": [
       "<div>\n",
       "<style scoped>\n",
       "    .dataframe tbody tr th:only-of-type {\n",
       "        vertical-align: middle;\n",
       "    }\n",
       "\n",
       "    .dataframe tbody tr th {\n",
       "        vertical-align: top;\n",
       "    }\n",
       "\n",
       "    .dataframe thead th {\n",
       "        text-align: right;\n",
       "    }\n",
       "</style>\n",
       "<table border=\"1\" class=\"dataframe\">\n",
       "  <thead>\n",
       "    <tr style=\"text-align: right;\">\n",
       "      <th></th>\n",
       "      <th>chas</th>\n",
       "    </tr>\n",
       "  </thead>\n",
       "  <tbody>\n",
       "    <tr>\n",
       "      <th>count</th>\n",
       "      <td>506.000000</td>\n",
       "    </tr>\n",
       "    <tr>\n",
       "      <th>mean</th>\n",
       "      <td>0.069170</td>\n",
       "    </tr>\n",
       "    <tr>\n",
       "      <th>std</th>\n",
       "      <td>0.253994</td>\n",
       "    </tr>\n",
       "    <tr>\n",
       "      <th>min</th>\n",
       "      <td>0.000000</td>\n",
       "    </tr>\n",
       "    <tr>\n",
       "      <th>25%</th>\n",
       "      <td>0.000000</td>\n",
       "    </tr>\n",
       "    <tr>\n",
       "      <th>50%</th>\n",
       "      <td>0.000000</td>\n",
       "    </tr>\n",
       "    <tr>\n",
       "      <th>75%</th>\n",
       "      <td>0.000000</td>\n",
       "    </tr>\n",
       "    <tr>\n",
       "      <th>max</th>\n",
       "      <td>1.000000</td>\n",
       "    </tr>\n",
       "  </tbody>\n",
       "</table>\n",
       "</div>"
      ],
      "text/plain": [
       "             chas\n",
       "count  506.000000\n",
       "mean     0.069170\n",
       "std      0.253994\n",
       "min      0.000000\n",
       "25%      0.000000\n",
       "50%      0.000000\n",
       "75%      0.000000\n",
       "max      1.000000"
      ]
     },
     "execution_count": 4,
     "metadata": {},
     "output_type": "execute_result"
    }
   ],
   "source": [
    "#describe cat fields\n",
    "df[cat_fields].describe()"
   ]
  },
  {
   "cell_type": "code",
   "execution_count": 5,
   "metadata": {},
   "outputs": [
    {
     "data": {
      "text/html": [
       "<div>\n",
       "<style scoped>\n",
       "    .dataframe tbody tr th:only-of-type {\n",
       "        vertical-align: middle;\n",
       "    }\n",
       "\n",
       "    .dataframe tbody tr th {\n",
       "        vertical-align: top;\n",
       "    }\n",
       "\n",
       "    .dataframe thead th {\n",
       "        text-align: right;\n",
       "    }\n",
       "</style>\n",
       "<table border=\"1\" class=\"dataframe\">\n",
       "  <thead>\n",
       "    <tr style=\"text-align: right;\">\n",
       "      <th></th>\n",
       "      <th>crim</th>\n",
       "      <th>zn</th>\n",
       "      <th>nox</th>\n",
       "      <th>rooms</th>\n",
       "      <th>dis</th>\n",
       "      <th>rad</th>\n",
       "      <th>tax</th>\n",
       "      <th>ptratio</th>\n",
       "      <th>lstat</th>\n",
       "      <th>mv</th>\n",
       "    </tr>\n",
       "  </thead>\n",
       "  <tbody>\n",
       "    <tr>\n",
       "      <th>count</th>\n",
       "      <td>506.000000</td>\n",
       "      <td>506.000000</td>\n",
       "      <td>506.000000</td>\n",
       "      <td>506.000000</td>\n",
       "      <td>506.000000</td>\n",
       "      <td>506.000000</td>\n",
       "      <td>506.000000</td>\n",
       "      <td>506.000000</td>\n",
       "      <td>506.000000</td>\n",
       "      <td>506.000000</td>\n",
       "    </tr>\n",
       "    <tr>\n",
       "      <th>mean</th>\n",
       "      <td>3.613524</td>\n",
       "      <td>11.363636</td>\n",
       "      <td>0.554695</td>\n",
       "      <td>6.284634</td>\n",
       "      <td>3.795043</td>\n",
       "      <td>9.549407</td>\n",
       "      <td>408.237154</td>\n",
       "      <td>18.455534</td>\n",
       "      <td>12.653063</td>\n",
       "      <td>22.528854</td>\n",
       "    </tr>\n",
       "    <tr>\n",
       "      <th>std</th>\n",
       "      <td>8.601545</td>\n",
       "      <td>23.322453</td>\n",
       "      <td>0.115878</td>\n",
       "      <td>0.702617</td>\n",
       "      <td>2.105710</td>\n",
       "      <td>8.707259</td>\n",
       "      <td>168.537116</td>\n",
       "      <td>2.164946</td>\n",
       "      <td>7.141062</td>\n",
       "      <td>9.182176</td>\n",
       "    </tr>\n",
       "    <tr>\n",
       "      <th>min</th>\n",
       "      <td>0.006320</td>\n",
       "      <td>0.000000</td>\n",
       "      <td>0.385000</td>\n",
       "      <td>3.561000</td>\n",
       "      <td>1.129600</td>\n",
       "      <td>1.000000</td>\n",
       "      <td>187.000000</td>\n",
       "      <td>12.600000</td>\n",
       "      <td>1.730000</td>\n",
       "      <td>5.000000</td>\n",
       "    </tr>\n",
       "    <tr>\n",
       "      <th>25%</th>\n",
       "      <td>0.082045</td>\n",
       "      <td>0.000000</td>\n",
       "      <td>0.449000</td>\n",
       "      <td>5.885500</td>\n",
       "      <td>2.100175</td>\n",
       "      <td>4.000000</td>\n",
       "      <td>279.000000</td>\n",
       "      <td>17.400000</td>\n",
       "      <td>6.950000</td>\n",
       "      <td>17.025000</td>\n",
       "    </tr>\n",
       "    <tr>\n",
       "      <th>50%</th>\n",
       "      <td>0.256510</td>\n",
       "      <td>0.000000</td>\n",
       "      <td>0.538000</td>\n",
       "      <td>6.208500</td>\n",
       "      <td>3.207450</td>\n",
       "      <td>5.000000</td>\n",
       "      <td>330.000000</td>\n",
       "      <td>19.050000</td>\n",
       "      <td>11.360000</td>\n",
       "      <td>21.200000</td>\n",
       "    </tr>\n",
       "    <tr>\n",
       "      <th>75%</th>\n",
       "      <td>3.677082</td>\n",
       "      <td>12.500000</td>\n",
       "      <td>0.624000</td>\n",
       "      <td>6.623500</td>\n",
       "      <td>5.188425</td>\n",
       "      <td>24.000000</td>\n",
       "      <td>666.000000</td>\n",
       "      <td>20.200000</td>\n",
       "      <td>16.955000</td>\n",
       "      <td>25.000000</td>\n",
       "    </tr>\n",
       "    <tr>\n",
       "      <th>max</th>\n",
       "      <td>88.976200</td>\n",
       "      <td>100.000000</td>\n",
       "      <td>0.871000</td>\n",
       "      <td>8.780000</td>\n",
       "      <td>12.126500</td>\n",
       "      <td>24.000000</td>\n",
       "      <td>711.000000</td>\n",
       "      <td>22.000000</td>\n",
       "      <td>37.970000</td>\n",
       "      <td>50.000000</td>\n",
       "    </tr>\n",
       "  </tbody>\n",
       "</table>\n",
       "</div>"
      ],
      "text/plain": [
       "             crim          zn         nox       rooms         dis         rad  \\\n",
       "count  506.000000  506.000000  506.000000  506.000000  506.000000  506.000000   \n",
       "mean     3.613524   11.363636    0.554695    6.284634    3.795043    9.549407   \n",
       "std      8.601545   23.322453    0.115878    0.702617    2.105710    8.707259   \n",
       "min      0.006320    0.000000    0.385000    3.561000    1.129600    1.000000   \n",
       "25%      0.082045    0.000000    0.449000    5.885500    2.100175    4.000000   \n",
       "50%      0.256510    0.000000    0.538000    6.208500    3.207450    5.000000   \n",
       "75%      3.677082   12.500000    0.624000    6.623500    5.188425   24.000000   \n",
       "max     88.976200  100.000000    0.871000    8.780000   12.126500   24.000000   \n",
       "\n",
       "              tax     ptratio       lstat          mv  \n",
       "count  506.000000  506.000000  506.000000  506.000000  \n",
       "mean   408.237154   18.455534   12.653063   22.528854  \n",
       "std    168.537116    2.164946    7.141062    9.182176  \n",
       "min    187.000000   12.600000    1.730000    5.000000  \n",
       "25%    279.000000   17.400000    6.950000   17.025000  \n",
       "50%    330.000000   19.050000   11.360000   21.200000  \n",
       "75%    666.000000   20.200000   16.955000   25.000000  \n",
       "max    711.000000   22.000000   37.970000   50.000000  "
      ]
     },
     "execution_count": 5,
     "metadata": {},
     "output_type": "execute_result"
    }
   ],
   "source": [
    "#describe cont fields\n",
    "df[cont_fields+response_fields].describe()"
   ]
  },
  {
   "cell_type": "code",
   "execution_count": 6,
   "metadata": {},
   "outputs": [
    {
     "name": "stdout",
     "output_type": "stream",
     "text": [
      "NA count for chas : 0\n",
      "NA count for crim : 0\n",
      "NA count for zn : 0\n",
      "NA count for nox : 0\n",
      "NA count for rooms : 0\n",
      "NA count for dis : 0\n",
      "NA count for rad : 0\n",
      "NA count for tax : 0\n",
      "NA count for ptratio : 0\n",
      "NA count for lstat : 0\n"
     ]
    }
   ],
   "source": [
    "# check for any NA values to determine whether imputing is necassary\n",
    "for i in cat_fields+cont_fields:\n",
    "    print('NA count for',i,':',len(df[df[i].isna() == True]))"
   ]
  },
  {
   "cell_type": "markdown",
   "metadata": {},
   "source": [
    "### 1.4 | EDA"
   ]
  },
  {
   "cell_type": "code",
   "execution_count": 7,
   "metadata": {},
   "outputs": [
    {
     "data": {
      "text/html": [
       "<div>\n",
       "<style scoped>\n",
       "    .dataframe tbody tr th:only-of-type {\n",
       "        vertical-align: middle;\n",
       "    }\n",
       "\n",
       "    .dataframe tbody tr th {\n",
       "        vertical-align: top;\n",
       "    }\n",
       "\n",
       "    .dataframe thead th {\n",
       "        text-align: right;\n",
       "    }\n",
       "</style>\n",
       "<table border=\"1\" class=\"dataframe\">\n",
       "  <thead>\n",
       "    <tr style=\"text-align: right;\">\n",
       "      <th></th>\n",
       "      <th>mv_cat</th>\n",
       "      <th>mv</th>\n",
       "    </tr>\n",
       "  </thead>\n",
       "  <tbody>\n",
       "    <tr>\n",
       "      <th>0</th>\n",
       "      <td>1</td>\n",
       "      <td>24.0</td>\n",
       "    </tr>\n",
       "    <tr>\n",
       "      <th>1</th>\n",
       "      <td>0</td>\n",
       "      <td>21.6</td>\n",
       "    </tr>\n",
       "    <tr>\n",
       "      <th>2</th>\n",
       "      <td>1</td>\n",
       "      <td>34.7</td>\n",
       "    </tr>\n",
       "    <tr>\n",
       "      <th>3</th>\n",
       "      <td>1</td>\n",
       "      <td>33.4</td>\n",
       "    </tr>\n",
       "    <tr>\n",
       "      <th>4</th>\n",
       "      <td>1</td>\n",
       "      <td>36.2</td>\n",
       "    </tr>\n",
       "  </tbody>\n",
       "</table>\n",
       "</div>"
      ],
      "text/plain": [
       "   mv_cat    mv\n",
       "0       1  24.0\n",
       "1       0  21.6\n",
       "2       1  34.7\n",
       "3       1  33.4\n",
       "4       1  36.2"
      ]
     },
     "execution_count": 7,
     "metadata": {},
     "output_type": "execute_result"
    }
   ],
   "source": [
    "#create binary variable for comparing distributions of cont fields across above average and below avearge market values\n",
    "def mv_split(i):\n",
    "    i = int(i)\n",
    "    if i > df['mv'].mean(): cat = 1\n",
    "    if i <= df['mv'].mean(): cat = 0\n",
    "    return(cat)\n",
    "\n",
    "df['mv_cat'] = df['mv'].map(mv_split)\n",
    "df[['mv_cat','mv']].head()"
   ]
  },
  {
   "cell_type": "code",
   "execution_count": 8,
   "metadata": {},
   "outputs": [
    {
     "data": {
      "image/png": "[encoded data removed]",
      "text/plain": [
       "<Figure size 432x288 with 1 Axes>"
      ]
     },
     "metadata": {
      "needs_background": "light"
     },
     "output_type": "display_data"
    },
    {
     "data": {
      "image/png": "[encoded data removed]",
      "text/plain": [
       "<Figure size 432x288 with 1 Axes>"
      ]
     },
     "metadata": {
      "needs_background": "light"
     },
     "output_type": "display_data"
    },
    {
     "data": {
      "image/png": "[encoded data removed]",
      "text/plain": [
       "<Figure size 432x288 with 1 Axes>"
      ]
     },
     "metadata": {
      "needs_background": "light"
     },
     "output_type": "display_data"
    },
    {
     "data": {
      "image/png": "[encoded data removed]",
      "text/plain": [
       "<Figure size 432x288 with 1 Axes>"
      ]
     },
     "metadata": {
      "needs_background": "light"
     },
     "output_type": "display_data"
    },
    {
     "data": {
      "image/png": "[encoded data removed]",
      "text/plain": [
       "<Figure size 432x288 with 1 Axes>"
      ]
     },
     "metadata": {
      "needs_background": "light"
     },
     "output_type": "display_data"
    },
    {
     "data": {
      "image/png": "[encoded data removed]",
      "text/plain": [
       "<Figure size 432x288 with 1 Axes>"
      ]
     },
     "metadata": {
      "needs_background": "light"
     },
     "output_type": "display_data"
    },
    {
     "data": {
      "image/png": "[encoded data removed]",
      "text/plain": [
       "<Figure size 432x288 with 1 Axes>"
      ]
     },
     "metadata": {
      "needs_background": "light"
     },
     "output_type": "display_data"
    },
    {
     "data": {
      "image/png": "[encoded data removed]",
      "text/plain": [
       "<Figure size 432x288 with 1 Axes>"
      ]
     },
     "metadata": {
      "needs_background": "light"
     },
     "output_type": "display_data"
    },
    {
     "data": {
      "image/png": "[encoded data removed]",
      "text/plain": [
       "<Figure size 432x288 with 1 Axes>"
      ]
     },
     "metadata": {
      "needs_background": "light"
     },
     "output_type": "display_data"
    }
   ],
   "source": [
    "#Distribution of continuous fields separated by mv_cat\n",
    "for i in cont_fields:\n",
    "    plt.figure(i)\n",
    "    df.groupby('mv_cat')[i].hist(alpha = .6)\n",
    "    plt.title(i)\n",
    "    plt.legend('01')\n",
    "#Views gives some insight into which variables follow distinct distributions for above and below average homes"
   ]
  },
  {
   "cell_type": "code",
   "execution_count": 9,
   "metadata": {},
   "outputs": [
    {
     "data": {
      "text/plain": [
       "<Figure size 432x288 with 0 Axes>"
      ]
     },
     "metadata": {},
     "output_type": "display_data"
    },
    {
     "data": {
      "image/png": "[encoded data removed]",
      "text/plain": [
       "<Figure size 864x864 with 2 Axes>"
      ]
     },
     "metadata": {
      "needs_background": "light"
     },
     "output_type": "display_data"
    }
   ],
   "source": [
    "import seaborn as sns\n",
    "\n",
    "def corr_chart(df_corr):\n",
    "    corr=df_corr.corr()\n",
    "    #screen top half to get a triangle\n",
    "    top = np.zeros_like(corr, dtype=np.bool)\n",
    "    top[np.triu_indices_from(top)] = True\n",
    "    fig=plt.figure()\n",
    "    fig, ax = plt.subplots(figsize=(12,12))\n",
    "    sns.heatmap(corr, mask=top, cmap='coolwarm', \n",
    "        center = 0, square=True, \n",
    "        linewidths=.5, cbar_kws={'shrink':.5}, \n",
    "        annot = True, annot_kws={'size': 9}, fmt = '.3f')           \n",
    "    plt.xticks(rotation=45) # rotate variable labels on columns (x axis)\n",
    "    plt.yticks(rotation=0) # use horizontal variable labels on rows (y axis)\n",
    "    plt.title('Correlation Heat Map')   \n",
    "\n",
    "for i in [cont_fields+response_fields]:\n",
    "    corr_chart(df_corr = df[i])\n",
    "\n",
    "#this visual confirms that none of the variables are correlated with one another. In other words, when housing is equal to 1\n",
    "# loan is not also equal to one"
   ]
  },
  {
   "cell_type": "code",
   "execution_count": 10,
   "metadata": {},
   "outputs": [
    {
     "data": {
      "image/png": "[encoded data removed]",
      "text/plain": [
       "<Figure size 432x288 with 1 Axes>"
      ]
     },
     "metadata": {
      "needs_background": "light"
     },
     "output_type": "display_data"
    }
   ],
   "source": [
    "#plot rooms versus market value since this variable shows the strongest positive individual correlation to market value\n",
    "plt.scatter(df['rooms'],df['mv'])\n",
    "plt.title('Number of rooms vs. Market Value')\n",
    "plt.xlabel('Rooms')\n",
    "plt.ylabel('Market Value')\n",
    "plt.grid()\n",
    "#number of rooms shows a strong positive correlation to market value with a consistent slope. There are a few outliers with\n",
    "#only a medium amount of rooms but a high market value"
   ]
  },
  {
   "cell_type": "code",
   "execution_count": 11,
   "metadata": {},
   "outputs": [
    {
     "data": {
      "image/png": "[encoded data removed]",
      "text/plain": [
       "<Figure size 432x288 with 1 Axes>"
      ]
     },
     "metadata": {
      "needs_background": "light"
     },
     "output_type": "display_data"
    }
   ],
   "source": [
    "#plot lstat versus market value since this variable shows the strongest negative individual correlation to market value\n",
    "plt.scatter(df['lstat'],df['mv'])\n",
    "plt.title('% of Population in Lower Econ Status vs. Market Value')\n",
    "plt.xlabel('% of Pop in Lower Econ Status')\n",
    "plt.ylabel('Market Value')\n",
    "plt.grid()\n",
    "#it looks like once the lstat drops below 5% it begins to increase the market value at a much greater rate. However,\n",
    "#there are also fewer values here."
   ]
  },
  {
   "cell_type": "code",
   "execution_count": 12,
   "metadata": {},
   "outputs": [
    {
     "data": {
      "image/png": "[encoded data removed]",
      "text/plain": [
       "<Figure size 432x288 with 1 Axes>"
      ]
     },
     "metadata": {
      "needs_background": "light"
     },
     "output_type": "display_data"
    }
   ],
   "source": [
    "#isolate market value by on the charles river or not\n",
    "x1 = df['mv'][df['chas']==0]\n",
    "x2 = df['mv'][df['chas']==1]\n",
    "\n",
    "#combine threads and plot\n",
    "plt.hist([x1,x2],stacked = True,color = [\"dodgerblue\",\"grey\"])\n",
    "plt.title(\"Distribution of market value by proximity to charles river\")\n",
    "plt.xlabel(\"market value\")\n",
    "plt.legend({'Off Charles':'dodgerblue','On Charles':\"grey\"})\n",
    "plt.grid(True)\n",
    "plt.show()\n",
    "\n",
    "#Based on this view it doesn't appear that this variable will be valuable"
   ]
  },
  {
   "cell_type": "code",
   "execution_count": 13,
   "metadata": {},
   "outputs": [
    {
     "data": {
      "image/png": "[encoded data removed]",
      "text/plain": [
       "<Figure size 432x288 with 1 Axes>"
      ]
     },
     "metadata": {
      "needs_background": "light"
     },
     "output_type": "display_data"
    }
   ],
   "source": [
    "#Distribution of log response field\n",
    "df['mv'].hist()\n",
    "plt.title('Market Value')\n",
    "plt.show()"
   ]
  },
  {
   "cell_type": "markdown",
   "metadata": {},
   "source": [
    "### 1.5 | Split into Training and Test Data"
   ]
  },
  {
   "cell_type": "code",
   "execution_count": 14,
   "metadata": {},
   "outputs": [],
   "source": [
    "from sklearn.model_selection import train_test_split\n",
    "\n",
    "RANDOM_STATE = 42\n",
    "TEST_SIZE = .3\n",
    "\n",
    "#split data into train and test sets\n",
    "xtrain,xtest,ytrain,ytest=train_test_split(df[cat_fields+cont_fields],df['mv'],\n",
    "                                               test_size = TEST_SIZE, random_state = RANDOM_STATE)"
   ]
  },
  {
   "cell_type": "code",
   "execution_count": 15,
   "metadata": {},
   "outputs": [
    {
     "name": "stdout",
     "output_type": "stream",
     "text": [
      "Row count of Xtrain: 354\n",
      "Row count of Ytrain: 354 / Avg Market Value:  23.023163841807907\n",
      "Row count of Xtest: 152\n",
      "Row count of Ytest: 152 / Avg Market Value:  21.377631578947362\n"
     ]
    }
   ],
   "source": [
    "#confirm split went according to plan. both y values are close to the mean value\n",
    "print(\"Row count of Xtrain:\",len(xtrain))\n",
    "print(\"Row count of Ytrain:\",len(ytrain),\"/ Avg Market Value: \",np.mean(ytrain))\n",
    "print(\"Row count of Xtest:\",len(xtest))\n",
    "print(\"Row count of Ytest:\",len(ytest),\"/ Avg Market Value: \",np.mean(ytest))"
   ]
  },
  {
   "cell_type": "markdown",
   "metadata": {},
   "source": [
    "### 1.6 | Scale Test and Training Data "
   ]
  },
  {
   "cell_type": "code",
   "execution_count": 16,
   "metadata": {},
   "outputs": [
    {
     "name": "stdout",
     "output_type": "stream",
     "text": [
      "Test Data shape: (152, 10)\n",
      "Training Data shape:  (354, 10)\n"
     ]
    },
    {
     "name": "stderr",
     "output_type": "stream",
     "text": [
      "C:\\Users\\David\\Anaconda3\\lib\\site-packages\\sklearn\\preprocessing\\data.py:645: DataConversionWarning: Data with input dtype int64, float64 were all converted to float64 by StandardScaler.\n",
      "  return self.partial_fit(X, y)\n",
      "C:\\Users\\David\\Anaconda3\\lib\\site-packages\\sklearn\\base.py:464: DataConversionWarning: Data with input dtype int64, float64 were all converted to float64 by StandardScaler.\n",
      "  return self.fit(X, **fit_params).transform(X)\n",
      "C:\\Users\\David\\Anaconda3\\lib\\site-packages\\sklearn\\preprocessing\\data.py:645: DataConversionWarning: Data with input dtype int64, float64 were all converted to float64 by StandardScaler.\n",
      "  return self.partial_fit(X, y)\n",
      "C:\\Users\\David\\Anaconda3\\lib\\site-packages\\sklearn\\base.py:464: DataConversionWarning: Data with input dtype int64, float64 were all converted to float64 by StandardScaler.\n",
      "  return self.fit(X, **fit_params).transform(X)\n"
     ]
    },
    {
     "data": {
      "text/html": [
       "<div>\n",
       "<style scoped>\n",
       "    .dataframe tbody tr th:only-of-type {\n",
       "        vertical-align: middle;\n",
       "    }\n",
       "\n",
       "    .dataframe tbody tr th {\n",
       "        vertical-align: top;\n",
       "    }\n",
       "\n",
       "    .dataframe thead th {\n",
       "        text-align: right;\n",
       "    }\n",
       "</style>\n",
       "<table border=\"1\" class=\"dataframe\">\n",
       "  <thead>\n",
       "    <tr style=\"text-align: right;\">\n",
       "      <th></th>\n",
       "      <th>chas</th>\n",
       "      <th>crim</th>\n",
       "      <th>zn</th>\n",
       "      <th>nox</th>\n",
       "      <th>rooms</th>\n",
       "      <th>dis</th>\n",
       "      <th>rad</th>\n",
       "      <th>tax</th>\n",
       "      <th>ptratio</th>\n",
       "      <th>lstat</th>\n",
       "    </tr>\n",
       "  </thead>\n",
       "  <tbody>\n",
       "    <tr>\n",
       "      <th>5</th>\n",
       "      <td>0</td>\n",
       "      <td>-0.414259</td>\n",
       "      <td>-0.505125</td>\n",
       "      <td>-0.851085</td>\n",
       "      <td>0.145264</td>\n",
       "      <td>1.081628</td>\n",
       "      <td>-0.746179</td>\n",
       "      <td>-1.112790</td>\n",
       "      <td>0.187271</td>\n",
       "      <td>-1.015316</td>\n",
       "    </tr>\n",
       "    <tr>\n",
       "      <th>116</th>\n",
       "      <td>0</td>\n",
       "      <td>-0.402008</td>\n",
       "      <td>-0.505125</td>\n",
       "      <td>-0.087967</td>\n",
       "      <td>-0.208401</td>\n",
       "      <td>-0.487876</td>\n",
       "      <td>-0.398464</td>\n",
       "      <td>0.150088</td>\n",
       "      <td>-0.212090</td>\n",
       "      <td>-0.053663</td>\n",
       "    </tr>\n",
       "    <tr>\n",
       "      <th>45</th>\n",
       "      <td>0</td>\n",
       "      <td>-0.397211</td>\n",
       "      <td>-0.505125</td>\n",
       "      <td>-0.936828</td>\n",
       "      <td>-0.896237</td>\n",
       "      <td>0.628596</td>\n",
       "      <td>-0.746179</td>\n",
       "      <td>-1.046639</td>\n",
       "      <td>-0.167716</td>\n",
       "      <td>-0.311324</td>\n",
       "    </tr>\n",
       "    <tr>\n",
       "      <th>16</th>\n",
       "      <td>0</td>\n",
       "      <td>-0.290936</td>\n",
       "      <td>-0.505125</td>\n",
       "      <td>-0.165136</td>\n",
       "      <td>-0.543965</td>\n",
       "      <td>0.345133</td>\n",
       "      <td>-0.630274</td>\n",
       "      <td>-0.601625</td>\n",
       "      <td>1.207859</td>\n",
       "      <td>-0.822422</td>\n",
       "    </tr>\n",
       "    <tr>\n",
       "      <th>468</th>\n",
       "      <td>0</td>\n",
       "      <td>1.457816</td>\n",
       "      <td>-0.505125</td>\n",
       "      <td>0.194987</td>\n",
       "      <td>-0.556496</td>\n",
       "      <td>-0.403892</td>\n",
       "      <td>1.687825</td>\n",
       "      <td>1.557294</td>\n",
       "      <td>0.852872</td>\n",
       "      <td>0.803800</td>\n",
       "    </tr>\n",
       "  </tbody>\n",
       "</table>\n",
       "</div>"
      ],
      "text/plain": [
       "     chas      crim        zn       nox     rooms       dis       rad  \\\n",
       "5       0 -0.414259 -0.505125 -0.851085  0.145264  1.081628 -0.746179   \n",
       "116     0 -0.402008 -0.505125 -0.087967 -0.208401 -0.487876 -0.398464   \n",
       "45      0 -0.397211 -0.505125 -0.936828 -0.896237  0.628596 -0.746179   \n",
       "16      0 -0.290936 -0.505125 -0.165136 -0.543965  0.345133 -0.630274   \n",
       "468     0  1.457816 -0.505125  0.194987 -0.556496 -0.403892  1.687825   \n",
       "\n",
       "          tax   ptratio     lstat  \n",
       "5   -1.112790  0.187271 -1.015316  \n",
       "116  0.150088 -0.212090 -0.053663  \n",
       "45  -1.046639 -0.167716 -0.311324  \n",
       "16  -0.601625  1.207859 -0.822422  \n",
       "468  1.557294  0.852872  0.803800  "
      ]
     },
     "execution_count": 16,
     "metadata": {},
     "output_type": "execute_result"
    }
   ],
   "source": [
    "#scale training data separate from test so as to not influence scaling\n",
    "train_scaled = pd.DataFrame(StandardScaler().fit_transform(xtrain[cont_fields]),\n",
    "                   columns = xtrain[cont_fields].columns, index = xtrain.index)\n",
    "\n",
    "xtrain = pd.concat([xtrain[cat_fields],train_scaled],axis = 1)\n",
    "\n",
    "#scale test data likewise\n",
    "test_scaled = pd.DataFrame(StandardScaler().fit_transform(xtest[cont_fields]),\n",
    "                   columns = xtest[cont_fields].columns, index = xtest.index)\n",
    "\n",
    "xtest = pd.concat([xtest[cat_fields],test_scaled],axis = 1)\n",
    "\n",
    "print(\"Test Data shape:\",xtest.shape)\n",
    "print(\"Training Data shape: \",xtrain.shape)\n",
    "xtrain.head()"
   ]
  },
  {
   "cell_type": "markdown",
   "metadata": {},
   "source": [
    "### 1.7 | One Hot Encoding of Categorical Variables"
   ]
  },
  {
   "cell_type": "code",
   "execution_count": 17,
   "metadata": {},
   "outputs": [
    {
     "name": "stdout",
     "output_type": "stream",
     "text": [
      "Test Data shape: (152, 10)\n",
      "Training Data shape:  (354, 10)\n"
     ]
    }
   ],
   "source": [
    "#this method is tricky since I want to one hot encode across a combined test and training set. If I were to encode test\n",
    "#and training in isolation then I would run the risk of some values showing up only in one of the sets resulting in a mismatched\n",
    "#number of columns\n",
    "\n",
    "#define variable for identifying test and train\n",
    "xtrain['train'] = 1\n",
    "xtest['train'] = 0\n",
    "\n",
    "#Combine test and train data\n",
    "combined = pd.concat([xtrain,xtest],axis = 0)\n",
    "\n",
    "#isolate categorical variables\n",
    "cat_df = combined[cat_fields]\n",
    "\n",
    "#one hot encode\n",
    "cat_df_encoded = pd.get_dummies(cat_df,drop_first = True)\n",
    "\n",
    "combined_2 = pd.concat([cat_df_encoded,combined[cont_fields],combined['train']],axis = 1)\n",
    "\n",
    "#split combined data set back to train and test\n",
    "xtrain = combined_2[combined_2['train'] == 1]\n",
    "xtest  = combined_2[combined_2['train'] == 0]\n",
    "#remove train field defined earlier\n",
    "xtrain.drop('train',axis = 1,inplace = True)\n",
    "xtest.drop('train',axis = 1, inplace = True)\n",
    "\n",
    "print(\"Test Data shape:\",xtest.shape)\n",
    "print(\"Training Data shape: \",xtrain.shape)\n",
    "#Check the columns are equal and and the rows counts remained the same"
   ]
  },
  {
   "cell_type": "markdown",
   "metadata": {},
   "source": [
    "### 1.8 | Model I: ElasticNet Regression"
   ]
  },
  {
   "cell_type": "code",
   "execution_count": 18,
   "metadata": {},
   "outputs": [
    {
     "name": "stdout",
     "output_type": "stream",
     "text": [
      "---------------------------\n",
      "n_alphas:  1  performance\n",
      "Root mean squared error : 4.879\n",
      "R-squared : 0.68\n",
      "---------------------------\n",
      "n_alphas:  2  performance\n",
      "Root mean squared error : 4.879\n",
      "R-squared : 0.68\n",
      "---------------------------\n",
      "n_alphas:  3  performance\n",
      "Root mean squared error : 4.879\n",
      "R-squared : 0.68\n",
      "---------------------------\n",
      "n_alphas:  4  performance\n",
      "Root mean squared error : 4.879\n",
      "R-squared : 0.68\n",
      "---------------------------\n",
      "n_alphas:  5  performance\n",
      "Root mean squared error : 4.879\n",
      "R-squared : 0.68\n",
      "---------------------------\n",
      "n_alphas:  6  performance\n",
      "Root mean squared error : 4.879\n",
      "R-squared : 0.68\n",
      "---------------------------\n",
      "n_alphas:  7  performance\n",
      "Root mean squared error : 4.879\n",
      "R-squared : 0.68\n",
      "---------------------------\n",
      "n_alphas:  8  performance\n",
      "Root mean squared error : 4.879\n",
      "R-squared : 0.68\n",
      "---------------------------\n",
      "n_alphas:  9  performance\n",
      "Root mean squared error : 4.879\n",
      "R-squared : 0.68\n"
     ]
    }
   ],
   "source": [
    "#apply different alpha values for best result\n",
    "for i in range(1,10):\n",
    "        model1 = ElasticNetCV(n_alphas = i,l1_ratio = .5,selection = 'random',copy_X=True,normalize = False, cv=5, random_state = RANDOM_STATE)\n",
    "        # Evaluate performance of optimal model on test data\n",
    "        model1.fit(xtrain, ytrain)\n",
    "        # Apply model1 to out-of-sample test data `xtest`.\n",
    "        model1_pred = model1.predict(xtest)\n",
    "        print(\"---------------------------\")\n",
    "        print(\"n_alphas: \",i,\" performance\")\n",
    "        print(\"Root mean squared error : {}\".format(np.sqrt(metrics.mean_squared_error(ytest, model1_pred)).round(3)))\n",
    "        print(\"R-squared : {}\".format(metrics.r2_score(ytest, model1_pred).round(2)))\n",
    "#looks like a lower n_alpha value produces a lower RMSE"
   ]
  },
  {
   "cell_type": "code",
   "execution_count": 19,
   "metadata": {},
   "outputs": [
    {
     "data": {
      "text/html": [
       "<div>\n",
       "<style scoped>\n",
       "    .dataframe tbody tr th:only-of-type {\n",
       "        vertical-align: middle;\n",
       "    }\n",
       "\n",
       "    .dataframe tbody tr th {\n",
       "        vertical-align: top;\n",
       "    }\n",
       "\n",
       "    .dataframe thead th {\n",
       "        text-align: right;\n",
       "    }\n",
       "</style>\n",
       "<table border=\"1\" class=\"dataframe\">\n",
       "  <thead>\n",
       "    <tr style=\"text-align: right;\">\n",
       "      <th></th>\n",
       "      <th>Predictor</th>\n",
       "      <th>Coefficient</th>\n",
       "    </tr>\n",
       "  </thead>\n",
       "  <tbody>\n",
       "    <tr>\n",
       "      <th>0</th>\n",
       "      <td>chas</td>\n",
       "      <td>3.095033</td>\n",
       "    </tr>\n",
       "    <tr>\n",
       "      <th>1</th>\n",
       "      <td>crim</td>\n",
       "      <td>-1.122002</td>\n",
       "    </tr>\n",
       "    <tr>\n",
       "      <th>2</th>\n",
       "      <td>zn</td>\n",
       "      <td>0.796766</td>\n",
       "    </tr>\n",
       "    <tr>\n",
       "      <th>3</th>\n",
       "      <td>nox</td>\n",
       "      <td>-1.715704</td>\n",
       "    </tr>\n",
       "    <tr>\n",
       "      <th>4</th>\n",
       "      <td>rooms</td>\n",
       "      <td>2.769009</td>\n",
       "    </tr>\n",
       "    <tr>\n",
       "      <th>5</th>\n",
       "      <td>dis</td>\n",
       "      <td>-2.821669</td>\n",
       "    </tr>\n",
       "    <tr>\n",
       "      <th>6</th>\n",
       "      <td>rad</td>\n",
       "      <td>1.606887</td>\n",
       "    </tr>\n",
       "    <tr>\n",
       "      <th>7</th>\n",
       "      <td>tax</td>\n",
       "      <td>-1.286848</td>\n",
       "    </tr>\n",
       "    <tr>\n",
       "      <th>8</th>\n",
       "      <td>ptratio</td>\n",
       "      <td>-1.882794</td>\n",
       "    </tr>\n",
       "    <tr>\n",
       "      <th>9</th>\n",
       "      <td>lstat</td>\n",
       "      <td>-4.158326</td>\n",
       "    </tr>\n",
       "  </tbody>\n",
       "</table>\n",
       "</div>"
      ],
      "text/plain": [
       "  Predictor  Coefficient\n",
       "0      chas     3.095033\n",
       "1      crim    -1.122002\n",
       "2        zn     0.796766\n",
       "3       nox    -1.715704\n",
       "4     rooms     2.769009\n",
       "5       dis    -2.821669\n",
       "6       rad     1.606887\n",
       "7       tax    -1.286848\n",
       "8   ptratio    -1.882794\n",
       "9     lstat    -4.158326"
      ]
     },
     "execution_count": 19,
     "metadata": {},
     "output_type": "execute_result"
    }
   ],
   "source": [
    "model1 = ElasticNetCV(n_alphas = 2,l1_ratio = .5,copy_X=True,normalize = False, cv=5, random_state = RANDOM_STATE)\n",
    "# Evaluate performance of optimal model on test data\n",
    "model1.fit(xtrain, ytrain)\n",
    "# Apply model1 to out-of-sample test data `xtest`.\n",
    "model1_pred = model1.predict(xtest)\n",
    "\n",
    "#examine coefficients\n",
    "coeff = pd.concat([pd.Series(xtest.columns),pd.Series(model1.coef_)],axis = 1)\n",
    "coeff.columns = ['Predictor','Coefficient']\n",
    "coeff"
   ]
  },
  {
   "cell_type": "markdown",
   "metadata": {},
   "source": [
    "### 1.9 | Model II: Lasso Regression"
   ]
  },
  {
   "cell_type": "code",
   "execution_count": 20,
   "metadata": {},
   "outputs": [
    {
     "name": "stdout",
     "output_type": "stream",
     "text": [
      "---------------------------\n",
      "n_alphas:  1  performance\n",
      "Root mean squared error : 4.874\n",
      "R-squared : 0.68\n",
      "---------------------------\n",
      "n_alphas:  2  performance\n",
      "Root mean squared error : 4.874\n",
      "R-squared : 0.68\n",
      "---------------------------\n",
      "n_alphas:  3  performance\n",
      "Root mean squared error : 4.874\n",
      "R-squared : 0.68\n",
      "---------------------------\n",
      "n_alphas:  4  performance\n",
      "Root mean squared error : 4.874\n",
      "R-squared : 0.68\n",
      "---------------------------\n",
      "n_alphas:  5  performance\n",
      "Root mean squared error : 4.874\n",
      "R-squared : 0.68\n",
      "---------------------------\n",
      "n_alphas:  6  performance\n",
      "Root mean squared error : 4.874\n",
      "R-squared : 0.68\n",
      "---------------------------\n",
      "n_alphas:  7  performance\n",
      "Root mean squared error : 4.874\n",
      "R-squared : 0.68\n",
      "---------------------------\n",
      "n_alphas:  8  performance\n",
      "Root mean squared error : 4.874\n",
      "R-squared : 0.68\n",
      "---------------------------\n",
      "n_alphas:  9  performance\n",
      "Root mean squared error : 4.874\n",
      "R-squared : 0.68\n"
     ]
    }
   ],
   "source": [
    "#apply different alpha values for best result\n",
    "for i in range(1,10):\n",
    "        model2 = LassoCV(n_alphas = i,selection = 'random',copy_X=True,normalize = False, cv=5, random_state = RANDOM_STATE)\n",
    "        # Evaluate performance of optimal model on test data\n",
    "        model2.fit(xtrain, ytrain)\n",
    "        # Apply model1 to out-of-sample test data `xtest`.\n",
    "        model2_pred = model2.predict(xtest)\n",
    "        print(\"---------------------------\")\n",
    "        print(\"n_alphas: \",i,\" performance\")\n",
    "        print(\"Root mean squared error : {}\".format(np.sqrt(metrics.mean_squared_error(ytest, model2_pred)).round(3)))\n",
    "        print(\"R-squared : {}\".format(metrics.r2_score(ytest, model2_pred).round(2)))\n",
    "#looks like a lower n_alpha value produces a lower RMSE"
   ]
  },
  {
   "cell_type": "code",
   "execution_count": 21,
   "metadata": {},
   "outputs": [
    {
     "data": {
      "text/html": [
       "<div>\n",
       "<style scoped>\n",
       "    .dataframe tbody tr th:only-of-type {\n",
       "        vertical-align: middle;\n",
       "    }\n",
       "\n",
       "    .dataframe tbody tr th {\n",
       "        vertical-align: top;\n",
       "    }\n",
       "\n",
       "    .dataframe thead th {\n",
       "        text-align: right;\n",
       "    }\n",
       "</style>\n",
       "<table border=\"1\" class=\"dataframe\">\n",
       "  <thead>\n",
       "    <tr style=\"text-align: right;\">\n",
       "      <th></th>\n",
       "      <th>Predictor</th>\n",
       "      <th>Coefficient</th>\n",
       "    </tr>\n",
       "  </thead>\n",
       "  <tbody>\n",
       "    <tr>\n",
       "      <th>0</th>\n",
       "      <td>chas</td>\n",
       "      <td>3.095033</td>\n",
       "    </tr>\n",
       "    <tr>\n",
       "      <th>1</th>\n",
       "      <td>crim</td>\n",
       "      <td>-1.122002</td>\n",
       "    </tr>\n",
       "    <tr>\n",
       "      <th>2</th>\n",
       "      <td>zn</td>\n",
       "      <td>0.796766</td>\n",
       "    </tr>\n",
       "    <tr>\n",
       "      <th>3</th>\n",
       "      <td>nox</td>\n",
       "      <td>-1.715704</td>\n",
       "    </tr>\n",
       "    <tr>\n",
       "      <th>4</th>\n",
       "      <td>rooms</td>\n",
       "      <td>2.769009</td>\n",
       "    </tr>\n",
       "    <tr>\n",
       "      <th>5</th>\n",
       "      <td>dis</td>\n",
       "      <td>-2.821669</td>\n",
       "    </tr>\n",
       "    <tr>\n",
       "      <th>6</th>\n",
       "      <td>rad</td>\n",
       "      <td>1.606887</td>\n",
       "    </tr>\n",
       "    <tr>\n",
       "      <th>7</th>\n",
       "      <td>tax</td>\n",
       "      <td>-1.286848</td>\n",
       "    </tr>\n",
       "    <tr>\n",
       "      <th>8</th>\n",
       "      <td>ptratio</td>\n",
       "      <td>-1.882794</td>\n",
       "    </tr>\n",
       "    <tr>\n",
       "      <th>9</th>\n",
       "      <td>lstat</td>\n",
       "      <td>-4.158326</td>\n",
       "    </tr>\n",
       "  </tbody>\n",
       "</table>\n",
       "</div>"
      ],
      "text/plain": [
       "  Predictor  Coefficient\n",
       "0      chas     3.095033\n",
       "1      crim    -1.122002\n",
       "2        zn     0.796766\n",
       "3       nox    -1.715704\n",
       "4     rooms     2.769009\n",
       "5       dis    -2.821669\n",
       "6       rad     1.606887\n",
       "7       tax    -1.286848\n",
       "8   ptratio    -1.882794\n",
       "9     lstat    -4.158326"
      ]
     },
     "execution_count": 21,
     "metadata": {},
     "output_type": "execute_result"
    }
   ],
   "source": [
    "model2 = LassoCV(n_alphas = 1,copy_X=True,normalize = False, cv=5, random_state = RANDOM_STATE)\n",
    "# Evaluate performance of optimal model on test data\n",
    "model2.fit(xtrain, ytrain)\n",
    "# Apply model1 to out-of-sample test data `xtest`.\n",
    "model2_pred = model2.predict(xtest)\n",
    "\n",
    "#examine coefficients\n",
    "coeff = pd.concat([pd.Series(xtest.columns),pd.Series(model1.coef_)],axis = 1)\n",
    "coeff.columns = ['Predictor','Coefficient']\n",
    "coeff"
   ]
  },
  {
   "cell_type": "markdown",
   "metadata": {},
   "source": [
    "### 2.0 | Model III: Ridge Regression"
   ]
  },
  {
   "cell_type": "code",
   "execution_count": 22,
   "metadata": {},
   "outputs": [
    {
     "name": "stdout",
     "output_type": "stream",
     "text": [
      "---------------------------\n",
      "Root mean squared error : 4.87\n",
      "R-squared : 0.68\n"
     ]
    }
   ],
   "source": [
    "#apply different alpha values for best result\n",
    "model3 = RidgeCV(alphas = [1e-3, 1e-2, 1e-1, 1],scoring = 'neg_mean_squared_error',normalize = False, cv=5)\n",
    "# Evaluate performance of optimal model on test data\n",
    "model3.fit(xtrain, ytrain)\n",
    "# Apply model1 to out-of-sample test data `xtest`.\n",
    "model3_pred = model3.predict(xtest)\n",
    "print(\"---------------------------\")\n",
    "print(\"Root mean squared error : {}\".format(np.sqrt(metrics.mean_squared_error(ytest, model3_pred)).round(3)))\n",
    "print(\"R-squared : {}\".format(metrics.r2_score(ytest, model3_pred).round(2)))\n",
    "#looks like a lower n_alpha value produces a lower RMSE"
   ]
  },
  {
   "cell_type": "code",
   "execution_count": 23,
   "metadata": {},
   "outputs": [
    {
     "data": {
      "text/html": [
       "<div>\n",
       "<style scoped>\n",
       "    .dataframe tbody tr th:only-of-type {\n",
       "        vertical-align: middle;\n",
       "    }\n",
       "\n",
       "    .dataframe tbody tr th {\n",
       "        vertical-align: top;\n",
       "    }\n",
       "\n",
       "    .dataframe thead th {\n",
       "        text-align: right;\n",
       "    }\n",
       "</style>\n",
       "<table border=\"1\" class=\"dataframe\">\n",
       "  <thead>\n",
       "    <tr style=\"text-align: right;\">\n",
       "      <th></th>\n",
       "      <th>Predictor</th>\n",
       "      <th>Coefficient</th>\n",
       "    </tr>\n",
       "  </thead>\n",
       "  <tbody>\n",
       "    <tr>\n",
       "      <th>0</th>\n",
       "      <td>chas</td>\n",
       "      <td>3.343385</td>\n",
       "    </tr>\n",
       "    <tr>\n",
       "      <th>1</th>\n",
       "      <td>crim</td>\n",
       "      <td>-1.152902</td>\n",
       "    </tr>\n",
       "    <tr>\n",
       "      <th>2</th>\n",
       "      <td>zn</td>\n",
       "      <td>0.844271</td>\n",
       "    </tr>\n",
       "    <tr>\n",
       "      <th>3</th>\n",
       "      <td>nox</td>\n",
       "      <td>-1.794298</td>\n",
       "    </tr>\n",
       "    <tr>\n",
       "      <th>4</th>\n",
       "      <td>rooms</td>\n",
       "      <td>2.741241</td>\n",
       "    </tr>\n",
       "    <tr>\n",
       "      <th>5</th>\n",
       "      <td>dis</td>\n",
       "      <td>-2.930619</td>\n",
       "    </tr>\n",
       "    <tr>\n",
       "      <th>6</th>\n",
       "      <td>rad</td>\n",
       "      <td>1.772836</td>\n",
       "    </tr>\n",
       "    <tr>\n",
       "      <th>7</th>\n",
       "      <td>tax</td>\n",
       "      <td>-1.416807</td>\n",
       "    </tr>\n",
       "    <tr>\n",
       "      <th>8</th>\n",
       "      <td>ptratio</td>\n",
       "      <td>-1.899492</td>\n",
       "    </tr>\n",
       "    <tr>\n",
       "      <th>9</th>\n",
       "      <td>lstat</td>\n",
       "      <td>-4.172050</td>\n",
       "    </tr>\n",
       "  </tbody>\n",
       "</table>\n",
       "</div>"
      ],
      "text/plain": [
       "  Predictor  Coefficient\n",
       "0      chas     3.343385\n",
       "1      crim    -1.152902\n",
       "2        zn     0.844271\n",
       "3       nox    -1.794298\n",
       "4     rooms     2.741241\n",
       "5       dis    -2.930619\n",
       "6       rad     1.772836\n",
       "7       tax    -1.416807\n",
       "8   ptratio    -1.899492\n",
       "9     lstat    -4.172050"
      ]
     },
     "execution_count": 23,
     "metadata": {},
     "output_type": "execute_result"
    }
   ],
   "source": [
    "#examine coefficients\n",
    "coeff = pd.concat([pd.Series(xtest.columns),pd.Series(model3.coef_)],axis = 1)\n",
    "coeff.columns = ['Predictor','Coefficient']\n",
    "coeff"
   ]
  },
  {
   "cell_type": "markdown",
   "metadata": {},
   "source": [
    "## 2.1 | Analysis of Results"
   ]
  },
  {
   "cell_type": "code",
   "execution_count": 24,
   "metadata": {},
   "outputs": [
    {
     "data": {
      "text/plain": [
       "Text(0, 0.5, 'Actual Value')"
      ]
     },
     "execution_count": 24,
     "metadata": {},
     "output_type": "execute_result"
    },
    {
     "data": {
      "image/png": "[encoded data removed]",
      "text/plain": [
       "<Figure size 432x288 with 1 Axes>"
      ]
     },
     "metadata": {
      "needs_background": "light"
     },
     "output_type": "display_data"
    }
   ],
   "source": [
    "#convert back to regular values from log\n",
    "plt.scatter(np.exp(model3_pred),np.exp(ytest))\n",
    "plt.title('Predicted values versus actual values')\n",
    "plt.xlabel('Predicted Value')\n",
    "plt.ylabel('Actual Value')"
   ]
  },
  {
   "cell_type": "code",
   "execution_count": null,
   "metadata": {},
   "outputs": [],
   "source": []
  }
 ],
 "metadata": {
  "kernelspec": {
   "display_name": "Python 3",
   "language": "python",
   "name": "python3"
  },
  "language_info": {
   "codemirror_mode": {
    "name": "ipython",
    "version": 3
   },
   "file_extension": ".py",
   "mimetype": "text/x-python",
   "name": "python",
   "nbconvert_exporter": "python",
   "pygments_lexer": "ipython3",
   "version": "3.6.8"
  }
 },
 "nbformat": 4,
 "nbformat_minor": 2
}
